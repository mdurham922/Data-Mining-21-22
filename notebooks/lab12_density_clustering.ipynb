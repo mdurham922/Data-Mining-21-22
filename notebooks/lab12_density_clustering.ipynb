{
 "cells": [
  {
   "cell_type": "code",
   "execution_count": 1,
   "metadata": {},
   "outputs": [],
   "source": [
    "from os.path import join\n",
    "import matplotlib.pyplot as plt\n",
    "import numpy as np\n",
    "import pandas as pd\n",
    "\n",
    "from sklearn.neighbors import NearestNeighbors\n",
    "from sklearn.mixture import GaussianMixture\n",
    "from sklearn.cluster import MeanShift, DBSCAN, estimate_bandwidth"
   ]
  },
  {
   "cell_type": "markdown",
   "metadata": {},
   "source": [
    "## Import preprocessed data"
   ]
  },
  {
   "cell_type": "code",
   "execution_count": 2,
   "metadata": {},
   "outputs": [],
   "source": [
    "df = pd.read_csv(join('..', 'data', 'tugas_preprocessed.csv'))"
   ]
  },
  {
   "cell_type": "code",
   "execution_count": 3,
   "metadata": {},
   "outputs": [
    {
     "data": {
      "text/html": [
       "<div>\n",
       "<style scoped>\n",
       "    .dataframe tbody tr th:only-of-type {\n",
       "        vertical-align: middle;\n",
       "    }\n",
       "\n",
       "    .dataframe tbody tr th {\n",
       "        vertical-align: top;\n",
       "    }\n",
       "\n",
       "    .dataframe thead th {\n",
       "        text-align: right;\n",
       "    }\n",
       "</style>\n",
       "<table border=\"1\" class=\"dataframe\">\n",
       "  <thead>\n",
       "    <tr style=\"text-align: right;\">\n",
       "      <th></th>\n",
       "      <th>income</th>\n",
       "      <th>frq</th>\n",
       "      <th>rcn</th>\n",
       "      <th>clothes</th>\n",
       "      <th>kitchen</th>\n",
       "      <th>small_appliances</th>\n",
       "      <th>toys</th>\n",
       "      <th>house_keeping</th>\n",
       "      <th>per_net_purchase</th>\n",
       "      <th>spent_online</th>\n",
       "      <th>...</th>\n",
       "      <th>x1_Widow</th>\n",
       "      <th>x2_M</th>\n",
       "      <th>x3_1.0</th>\n",
       "      <th>x4_Kind of OK</th>\n",
       "      <th>x4_Meh...</th>\n",
       "      <th>x4_OK nice!</th>\n",
       "      <th>x4_Take my money!!</th>\n",
       "      <th>PC0</th>\n",
       "      <th>PC1</th>\n",
       "      <th>PC2</th>\n",
       "    </tr>\n",
       "  </thead>\n",
       "  <tbody>\n",
       "    <tr>\n",
       "      <th>0</th>\n",
       "      <td>0.743162</td>\n",
       "      <td>1.191605</td>\n",
       "      <td>0.457819</td>\n",
       "      <td>-0.617023</td>\n",
       "      <td>-0.243065</td>\n",
       "      <td>1.216847</td>\n",
       "      <td>0.495837</td>\n",
       "      <td>-0.499274</td>\n",
       "      <td>-1.257560</td>\n",
       "      <td>0.522055</td>\n",
       "      <td>...</td>\n",
       "      <td>0.0</td>\n",
       "      <td>1.0</td>\n",
       "      <td>0.0</td>\n",
       "      <td>0.0</td>\n",
       "      <td>0.0</td>\n",
       "      <td>0.0</td>\n",
       "      <td>1.0</td>\n",
       "      <td>0.896356</td>\n",
       "      <td>1.937697</td>\n",
       "      <td>-1.120781</td>\n",
       "    </tr>\n",
       "    <tr>\n",
       "      <th>1</th>\n",
       "      <td>1.559488</td>\n",
       "      <td>1.100011</td>\n",
       "      <td>-1.535723</td>\n",
       "      <td>0.166160</td>\n",
       "      <td>-0.790228</td>\n",
       "      <td>0.740464</td>\n",
       "      <td>-0.374374</td>\n",
       "      <td>-0.631907</td>\n",
       "      <td>-1.798649</td>\n",
       "      <td>-0.237578</td>\n",
       "      <td>...</td>\n",
       "      <td>0.0</td>\n",
       "      <td>0.0</td>\n",
       "      <td>0.0</td>\n",
       "      <td>0.0</td>\n",
       "      <td>0.0</td>\n",
       "      <td>0.0</td>\n",
       "      <td>1.0</td>\n",
       "      <td>1.981092</td>\n",
       "      <td>1.421498</td>\n",
       "      <td>-0.785625</td>\n",
       "    </tr>\n",
       "    <tr>\n",
       "      <th>2</th>\n",
       "      <td>-1.548542</td>\n",
       "      <td>-0.823463</td>\n",
       "      <td>0.557496</td>\n",
       "      <td>-0.834573</td>\n",
       "      <td>1.672006</td>\n",
       "      <td>-0.371096</td>\n",
       "      <td>-0.809480</td>\n",
       "      <td>2.286023</td>\n",
       "      <td>0.906799</td>\n",
       "      <td>-0.904191</td>\n",
       "      <td>...</td>\n",
       "      <td>0.0</td>\n",
       "      <td>1.0</td>\n",
       "      <td>1.0</td>\n",
       "      <td>1.0</td>\n",
       "      <td>0.0</td>\n",
       "      <td>0.0</td>\n",
       "      <td>0.0</td>\n",
       "      <td>-2.813108</td>\n",
       "      <td>-0.381440</td>\n",
       "      <td>0.780867</td>\n",
       "    </tr>\n",
       "    <tr>\n",
       "      <th>3</th>\n",
       "      <td>0.845528</td>\n",
       "      <td>0.550447</td>\n",
       "      <td>-1.402820</td>\n",
       "      <td>0.383710</td>\n",
       "      <td>0.440889</td>\n",
       "      <td>-0.768082</td>\n",
       "      <td>-0.084304</td>\n",
       "      <td>-0.234007</td>\n",
       "      <td>-0.391816</td>\n",
       "      <td>0.785568</td>\n",
       "      <td>...</td>\n",
       "      <td>0.0</td>\n",
       "      <td>0.0</td>\n",
       "      <td>1.0</td>\n",
       "      <td>0.0</td>\n",
       "      <td>0.0</td>\n",
       "      <td>1.0</td>\n",
       "      <td>0.0</td>\n",
       "      <td>1.247013</td>\n",
       "      <td>0.514177</td>\n",
       "      <td>1.302203</td>\n",
       "    </tr>\n",
       "    <tr>\n",
       "      <th>4</th>\n",
       "      <td>0.782435</td>\n",
       "      <td>1.008417</td>\n",
       "      <td>-0.871209</td>\n",
       "      <td>0.340200</td>\n",
       "      <td>-0.243065</td>\n",
       "      <td>-0.053508</td>\n",
       "      <td>-0.374374</td>\n",
       "      <td>-0.366640</td>\n",
       "      <td>-0.445925</td>\n",
       "      <td>1.237135</td>\n",
       "      <td>...</td>\n",
       "      <td>0.0</td>\n",
       "      <td>0.0</td>\n",
       "      <td>1.0</td>\n",
       "      <td>0.0</td>\n",
       "      <td>0.0</td>\n",
       "      <td>0.0</td>\n",
       "      <td>1.0</td>\n",
       "      <td>1.781920</td>\n",
       "      <td>0.704805</td>\n",
       "      <td>0.443376</td>\n",
       "    </tr>\n",
       "  </tbody>\n",
       "</table>\n",
       "<p>5 rows × 27 columns</p>\n",
       "</div>"
      ],
      "text/plain": [
       "     income       frq       rcn   clothes   kitchen  small_appliances  \\\n",
       "0  0.743162  1.191605  0.457819 -0.617023 -0.243065          1.216847   \n",
       "1  1.559488  1.100011 -1.535723  0.166160 -0.790228          0.740464   \n",
       "2 -1.548542 -0.823463  0.557496 -0.834573  1.672006         -0.371096   \n",
       "3  0.845528  0.550447 -1.402820  0.383710  0.440889         -0.768082   \n",
       "4  0.782435  1.008417 -0.871209  0.340200 -0.243065         -0.053508   \n",
       "\n",
       "       toys  house_keeping  per_net_purchase  spent_online  ...  x1_Widow  \\\n",
       "0  0.495837      -0.499274         -1.257560      0.522055  ...       0.0   \n",
       "1 -0.374374      -0.631907         -1.798649     -0.237578  ...       0.0   \n",
       "2 -0.809480       2.286023          0.906799     -0.904191  ...       0.0   \n",
       "3 -0.084304      -0.234007         -0.391816      0.785568  ...       0.0   \n",
       "4 -0.374374      -0.366640         -0.445925      1.237135  ...       0.0   \n",
       "\n",
       "   x2_M  x3_1.0  x4_Kind of OK  x4_Meh...  x4_OK nice!  x4_Take my money!!  \\\n",
       "0   1.0     0.0            0.0        0.0          0.0                 1.0   \n",
       "1   0.0     0.0            0.0        0.0          0.0                 1.0   \n",
       "2   1.0     1.0            1.0        0.0          0.0                 0.0   \n",
       "3   0.0     1.0            0.0        0.0          1.0                 0.0   \n",
       "4   0.0     1.0            0.0        0.0          0.0                 1.0   \n",
       "\n",
       "        PC0       PC1       PC2  \n",
       "0  0.896356  1.937697 -1.120781  \n",
       "1  1.981092  1.421498 -0.785625  \n",
       "2 -2.813108 -0.381440  0.780867  \n",
       "3  1.247013  0.514177  1.302203  \n",
       "4  1.781920  0.704805  0.443376  \n",
       "\n",
       "[5 rows x 27 columns]"
      ]
     },
     "execution_count": 3,
     "metadata": {},
     "output_type": "execute_result"
    }
   ],
   "source": [
    "df.head()"
   ]
  },
  {
   "cell_type": "code",
   "execution_count": 4,
   "metadata": {},
   "outputs": [
    {
     "data": {
      "text/plain": [
       "Index(['income', 'frq', 'rcn', 'clothes', 'kitchen', 'small_appliances',\n",
       "       'toys', 'house_keeping', 'per_net_purchase', 'spent_online',\n",
       "       'x0_2nd Cycle', 'x0_Graduation', 'x0_Master', 'x0_PhD', 'x1_Married',\n",
       "       'x1_Single', 'x1_Together', 'x1_Widow', 'x2_M', 'x3_1.0',\n",
       "       'x4_Kind of OK', 'x4_Meh...', 'x4_OK nice!', 'x4_Take my money!!',\n",
       "       'PC0', 'PC1', 'PC2'],\n",
       "      dtype='object')"
      ]
     },
     "execution_count": 4,
     "metadata": {},
     "output_type": "execute_result"
    }
   ],
   "source": [
    "df.columns"
   ]
  },
  {
   "cell_type": "code",
   "execution_count": 5,
   "metadata": {},
   "outputs": [],
   "source": [
    "# Splitting feature names into groups\n",
    "non_metric_features = df.columns[df.columns.str.startswith('x')]\n",
    "pc_features = df.columns[df.columns.str.startswith('PC')]\n",
    "metric_features = df.columns[~df.columns.str.startswith('x') & ~df.columns.str.startswith('PC')]"
   ]
  },
  {
   "cell_type": "code",
   "execution_count": 6,
   "metadata": {},
   "outputs": [],
   "source": [
    "def get_ss(df):\n",
    "    \"\"\"Computes the sum of squares for all variables given a dataset\n",
    "    \"\"\"\n",
    "    ss = np.sum(df.var() * (df.count() - 1))\n",
    "    return ss  # return sum of sum of squares of each df variable"
   ]
  },
  {
   "cell_type": "markdown",
   "metadata": {},
   "source": [
    "# Density Based Clustering\n",
    "## Mean Shift Clustering\n",
    "What is Mean-shift clustering? How does it work?\n",
    "\n",
    "Single seed             |  Multiple seeds\n",
    ":-------------------------:|:-------------------------:\n",
    "![](../figures/mean_shift_0.gif)  |  ![](../figures/mean_shift_tutorial.gif)\n",
    " \n",
    "### Characteristics:\n",
    "- No need to define number of clusters apriori\n",
    "- Can detect clusters of any shape\n",
    "- Robust to outliers\n",
    "- Depends on the bandwidth hyperparameter (but there's a way to estimate it)\n",
    "- **Main drawback**: Poor scalability (on both the algorithm and in estimating the bandwidth)"
   ]
  },
  {
   "cell_type": "code",
   "execution_count": 12,
   "metadata": {},
   "outputs": [
    {
     "data": {
      "text/plain": [
       "2.275657403691861"
      ]
     },
     "execution_count": 12,
     "metadata": {},
     "output_type": "execute_result"
    }
   ],
   "source": [
    "# The following bandwidth can be automatically detected using (we need to set quantile though)\n",
    "# Based on distance to nearest neighbors for all observations\n",
    "bandwidth = estimate_bandwidth(df[metric_features], random_state=1, n_jobs=-1 , quantile=.055)\n",
    "# TO-DO: manipulate the quantile value such that we obtain a small enough bandwidth\n",
    "bandwidth"
   ]
  },
  {
   "cell_type": "code",
   "execution_count": 13,
   "metadata": {},
   "outputs": [
    {
     "name": "stdout",
     "output_type": "stream",
     "text": [
      "Number of estimated clusters : 6\n"
     ]
    }
   ],
   "source": [
    "# Perform mean-shift clustering with bandwidth set using estimate_bandwidth\n",
    "# TO-DO: explore the MeanShift class and obtain the cluster labels\n",
    "ms = MeanShift(bandwidth=bandwidth, bin_seeding=True, n_jobs=-1)\n",
    "ms_labels = ms.fit_predict(df[metric_features])\n",
    "\n",
    "ms_n_clusters = len(np.unique(ms_labels))\n",
    "print(\"Number of estimated clusters : %d\" % ms_n_clusters)"
   ]
  },
  {
   "cell_type": "code",
   "execution_count": 14,
   "metadata": {},
   "outputs": [
    {
     "data": {
      "text/plain": [
       "Counter({0: 6973, 5: 427, 1: 501, 3: 209, 4: 167, 2: 540})"
      ]
     },
     "execution_count": 14,
     "metadata": {},
     "output_type": "execute_result"
    }
   ],
   "source": [
    "from collections import Counter\n",
    "Counter(ms_labels)"
   ]
  },
  {
   "cell_type": "code",
   "execution_count": 15,
   "metadata": {},
   "outputs": [
    {
     "data": {
      "text/html": [
       "<div>\n",
       "<style scoped>\n",
       "    .dataframe tbody tr th:only-of-type {\n",
       "        vertical-align: middle;\n",
       "    }\n",
       "\n",
       "    .dataframe tbody tr th {\n",
       "        vertical-align: top;\n",
       "    }\n",
       "\n",
       "    .dataframe thead th {\n",
       "        text-align: right;\n",
       "    }\n",
       "</style>\n",
       "<table border=\"1\" class=\"dataframe\">\n",
       "  <thead>\n",
       "    <tr style=\"text-align: right;\">\n",
       "      <th></th>\n",
       "      <th>income</th>\n",
       "      <th>frq</th>\n",
       "      <th>rcn</th>\n",
       "      <th>clothes</th>\n",
       "      <th>kitchen</th>\n",
       "      <th>small_appliances</th>\n",
       "      <th>toys</th>\n",
       "      <th>house_keeping</th>\n",
       "      <th>per_net_purchase</th>\n",
       "      <th>spent_online</th>\n",
       "      <th>ms_labels</th>\n",
       "    </tr>\n",
       "  </thead>\n",
       "  <tbody>\n",
       "    <tr>\n",
       "      <th>0</th>\n",
       "      <td>0.743162</td>\n",
       "      <td>1.191605</td>\n",
       "      <td>0.457819</td>\n",
       "      <td>-0.617023</td>\n",
       "      <td>-0.243065</td>\n",
       "      <td>1.216847</td>\n",
       "      <td>0.495837</td>\n",
       "      <td>-0.499274</td>\n",
       "      <td>-1.257560</td>\n",
       "      <td>0.522055</td>\n",
       "      <td>0</td>\n",
       "    </tr>\n",
       "    <tr>\n",
       "      <th>1</th>\n",
       "      <td>1.559488</td>\n",
       "      <td>1.100011</td>\n",
       "      <td>-1.535723</td>\n",
       "      <td>0.166160</td>\n",
       "      <td>-0.790228</td>\n",
       "      <td>0.740464</td>\n",
       "      <td>-0.374374</td>\n",
       "      <td>-0.631907</td>\n",
       "      <td>-1.798649</td>\n",
       "      <td>-0.237578</td>\n",
       "      <td>0</td>\n",
       "    </tr>\n",
       "    <tr>\n",
       "      <th>2</th>\n",
       "      <td>-1.548542</td>\n",
       "      <td>-0.823463</td>\n",
       "      <td>0.557496</td>\n",
       "      <td>-0.834573</td>\n",
       "      <td>1.672006</td>\n",
       "      <td>-0.371096</td>\n",
       "      <td>-0.809480</td>\n",
       "      <td>2.286023</td>\n",
       "      <td>0.906799</td>\n",
       "      <td>-0.904191</td>\n",
       "      <td>0</td>\n",
       "    </tr>\n",
       "    <tr>\n",
       "      <th>3</th>\n",
       "      <td>0.845528</td>\n",
       "      <td>0.550447</td>\n",
       "      <td>-1.402820</td>\n",
       "      <td>0.383710</td>\n",
       "      <td>0.440889</td>\n",
       "      <td>-0.768082</td>\n",
       "      <td>-0.084304</td>\n",
       "      <td>-0.234007</td>\n",
       "      <td>-0.391816</td>\n",
       "      <td>0.785568</td>\n",
       "      <td>0</td>\n",
       "    </tr>\n",
       "    <tr>\n",
       "      <th>4</th>\n",
       "      <td>0.782435</td>\n",
       "      <td>1.008417</td>\n",
       "      <td>-0.871209</td>\n",
       "      <td>0.340200</td>\n",
       "      <td>-0.243065</td>\n",
       "      <td>-0.053508</td>\n",
       "      <td>-0.374374</td>\n",
       "      <td>-0.366640</td>\n",
       "      <td>-0.445925</td>\n",
       "      <td>1.237135</td>\n",
       "      <td>0</td>\n",
       "    </tr>\n",
       "  </tbody>\n",
       "</table>\n",
       "</div>"
      ],
      "text/plain": [
       "     income       frq       rcn   clothes   kitchen  small_appliances  \\\n",
       "0  0.743162  1.191605  0.457819 -0.617023 -0.243065          1.216847   \n",
       "1  1.559488  1.100011 -1.535723  0.166160 -0.790228          0.740464   \n",
       "2 -1.548542 -0.823463  0.557496 -0.834573  1.672006         -0.371096   \n",
       "3  0.845528  0.550447 -1.402820  0.383710  0.440889         -0.768082   \n",
       "4  0.782435  1.008417 -0.871209  0.340200 -0.243065         -0.053508   \n",
       "\n",
       "       toys  house_keeping  per_net_purchase  spent_online  ms_labels  \n",
       "0  0.495837      -0.499274         -1.257560      0.522055          0  \n",
       "1 -0.374374      -0.631907         -1.798649     -0.237578          0  \n",
       "2 -0.809480       2.286023          0.906799     -0.904191          0  \n",
       "3 -0.084304      -0.234007         -0.391816      0.785568          0  \n",
       "4 -0.374374      -0.366640         -0.445925      1.237135          0  "
      ]
     },
     "execution_count": 15,
     "metadata": {},
     "output_type": "execute_result"
    }
   ],
   "source": [
    "# Concatenating the labels to df\n",
    "df_concat = pd.concat([df[metric_features], pd.Series(ms_labels, index=df.index, name=\"ms_labels\")], axis=1)\n",
    "df_concat.head()"
   ]
  },
  {
   "cell_type": "code",
   "execution_count": 16,
   "metadata": {},
   "outputs": [
    {
     "name": "stdout",
     "output_type": "stream",
     "text": [
      "Cluster solution with R^2 of 0.2568\n"
     ]
    }
   ],
   "source": [
    "# Computing the R^2 of the cluster solution\n",
    "sst = get_ss(df[metric_features])  # get total sum of squares\n",
    "ssw_labels = df_concat.groupby(by='ms_labels').apply(get_ss)  # compute ssw for each cluster labels\n",
    "ssb = sst - np.sum(ssw_labels)  # remember: SST = SSW + SSB\n",
    "r2 = ssb / sst\n",
    "print(\"Cluster solution with R^2 of %0.4f\" % r2)"
   ]
  },
  {
   "cell_type": "markdown",
   "metadata": {},
   "source": [
    "## DBSCAN (Density-based spatial clustering of applications with noise)\n",
    "What is DBSCAN clustering? How does it work?\n",
    "\n",
    "DBSCAN animation            |  Core, border and noise\n",
    ":-------------------------:|:-------------------------:\n",
    "![](../figures/dbscan.gif)  |  ![](../figures/dbscan.jpg)\n",
    "\n",
    "\n",
    "### Characteristics:\n",
    "- No need to define number of clusters apriori\n",
    "- Resistant to noise and outliers\n",
    "- Can identify outliers\n",
    "- Can handle clusters of different shapes and sizes\n",
    "- Depends highly on the epsilon hyperparameter and it can be hard to tune\n",
    "- Does not work well with clusters of varying densities"
   ]
  },
  {
   "cell_type": "code",
   "execution_count": 19,
   "metadata": {},
   "outputs": [
    {
     "name": "stdout",
     "output_type": "stream",
     "text": [
      "Number of estimated clusters : 37\n"
     ]
    }
   ],
   "source": [
    "# Perform DBSCAN clustering\n",
    "# TO-DO: explore the DBSCAN class and obtain the cluster labels\n",
    "dbscan = DBSCAN(eps=.5, min_samples=5,n_jobs=-1)\n",
    "dbscan_labels = dbscan.fit_predict(df[metric_features])\n",
    "\n",
    "dbscan_n_clusters = len(np.unique(dbscan_labels))\n",
    "print(\"Number of estimated clusters : %d\" % dbscan_n_clusters)"
   ]
  },
  {
   "cell_type": "code",
   "execution_count": 21,
   "metadata": {},
   "outputs": [],
   "source": [
    "#Counter(dbscan_labels)"
   ]
  },
  {
   "cell_type": "code",
   "execution_count": null,
   "metadata": {},
   "outputs": [],
   "source": []
  },
  {
   "cell_type": "markdown",
   "metadata": {},
   "source": [
    "### Defining eps and min_samples:\n",
    "- **MinPts**: As a rule of thumb, **minPts = 2 x dim** can be used, but it may be necessary to choose larger values for very large data, for noisy data or for data that contains many duplicates.\n",
    "\n",
    "- **ε**: The value for ε can then be chosen by using a **k-distance graph**, plotting the distance to the kth (k = minPts - 1) nearest neighbor ordered from the largest to the smallest value. Good values of ε are where this plot shows an **\"elbow\"**: if ε is chosen much too small, a large part of the data will not be clustered; whereas for a too high value of ε, clusters will merge and the majority of objects will be in the same cluster. **The assumption is that for points in a cluster, their k nearest neighbors are at roughly the same distance**. Noise points have their k-th nearest neighbors at farther distance"
   ]
  },
  {
   "cell_type": "code",
   "execution_count": 22,
   "metadata": {},
   "outputs": [
    {
     "data": {
      "text/plain": [
       "10"
      ]
     },
     "execution_count": 22,
     "metadata": {},
     "output_type": "execute_result"
    }
   ],
   "source": [
    "len(metric_features)\n",
    "#best practice is: min number of observations per feature - 1 "
   ]
  },
  {
   "cell_type": "code",
   "execution_count": 23,
   "metadata": {},
   "outputs": [
    {
     "data": {
      "image/png": "[encoded data removed]",
      "text/plain": [
       "<Figure size 432x288 with 1 Axes>"
      ]
     },
     "metadata": {
      "needs_background": "light"
     },
     "output_type": "display_data"
    }
   ],
   "source": [
    "# K-distance graph to find out the right eps value\n",
    "neigh = NearestNeighbors(n_neighbors=19)\n",
    "neigh.fit(df[metric_features])\n",
    "distances, _ = neigh.kneighbors(df[metric_features])\n",
    "distances = np.sort(distances[:, -1])\n",
    "plt.plot(distances)\n",
    "plt.show()"
   ]
  },
  {
   "cell_type": "code",
   "execution_count": 26,
   "metadata": {},
   "outputs": [
    {
     "name": "stdout",
     "output_type": "stream",
     "text": [
      "Number of estimated clusters : 2\n"
     ]
    }
   ],
   "source": [
    "# Perform DBSCAN clustering\n",
    "# TO-DO: Re-cluster the data using the defined hyperparameters\n",
    "dbscan = DBSCAN(eps=1.75, min_samples=20,n_jobs=-1)\n",
    "dbscan_labels = dbscan.fit_predict(df[metric_features])\n",
    "\n",
    "dbscan_n_clusters = len(np.unique(dbscan_labels))\n",
    "print(\"Number of estimated clusters : %d\" % dbscan_n_clusters)"
   ]
  },
  {
   "cell_type": "code",
   "execution_count": 27,
   "metadata": {},
   "outputs": [
    {
     "data": {
      "text/plain": [
       "Counter({0: 8568, -1: 249})"
      ]
     },
     "execution_count": 27,
     "metadata": {},
     "output_type": "execute_result"
    }
   ],
   "source": [
    "#its a good way to find outliers, but not a great way to find clusters \n",
    "Counter(dbscan_labels)"
   ]
  },
  {
   "cell_type": "code",
   "execution_count": 28,
   "metadata": {},
   "outputs": [
    {
     "data": {
      "text/html": [
       "<div>\n",
       "<style scoped>\n",
       "    .dataframe tbody tr th:only-of-type {\n",
       "        vertical-align: middle;\n",
       "    }\n",
       "\n",
       "    .dataframe tbody tr th {\n",
       "        vertical-align: top;\n",
       "    }\n",
       "\n",
       "    .dataframe thead th {\n",
       "        text-align: right;\n",
       "    }\n",
       "</style>\n",
       "<table border=\"1\" class=\"dataframe\">\n",
       "  <thead>\n",
       "    <tr style=\"text-align: right;\">\n",
       "      <th></th>\n",
       "      <th>income</th>\n",
       "      <th>frq</th>\n",
       "      <th>rcn</th>\n",
       "      <th>clothes</th>\n",
       "      <th>kitchen</th>\n",
       "      <th>small_appliances</th>\n",
       "      <th>toys</th>\n",
       "      <th>house_keeping</th>\n",
       "      <th>per_net_purchase</th>\n",
       "      <th>spent_online</th>\n",
       "      <th>dbscan_labels</th>\n",
       "    </tr>\n",
       "  </thead>\n",
       "  <tbody>\n",
       "    <tr>\n",
       "      <th>0</th>\n",
       "      <td>0.743162</td>\n",
       "      <td>1.191605</td>\n",
       "      <td>0.457819</td>\n",
       "      <td>-0.617023</td>\n",
       "      <td>-0.243065</td>\n",
       "      <td>1.216847</td>\n",
       "      <td>0.495837</td>\n",
       "      <td>-0.499274</td>\n",
       "      <td>-1.257560</td>\n",
       "      <td>0.522055</td>\n",
       "      <td>0</td>\n",
       "    </tr>\n",
       "    <tr>\n",
       "      <th>1</th>\n",
       "      <td>1.559488</td>\n",
       "      <td>1.100011</td>\n",
       "      <td>-1.535723</td>\n",
       "      <td>0.166160</td>\n",
       "      <td>-0.790228</td>\n",
       "      <td>0.740464</td>\n",
       "      <td>-0.374374</td>\n",
       "      <td>-0.631907</td>\n",
       "      <td>-1.798649</td>\n",
       "      <td>-0.237578</td>\n",
       "      <td>0</td>\n",
       "    </tr>\n",
       "    <tr>\n",
       "      <th>2</th>\n",
       "      <td>-1.548542</td>\n",
       "      <td>-0.823463</td>\n",
       "      <td>0.557496</td>\n",
       "      <td>-0.834573</td>\n",
       "      <td>1.672006</td>\n",
       "      <td>-0.371096</td>\n",
       "      <td>-0.809480</td>\n",
       "      <td>2.286023</td>\n",
       "      <td>0.906799</td>\n",
       "      <td>-0.904191</td>\n",
       "      <td>0</td>\n",
       "    </tr>\n",
       "    <tr>\n",
       "      <th>3</th>\n",
       "      <td>0.845528</td>\n",
       "      <td>0.550447</td>\n",
       "      <td>-1.402820</td>\n",
       "      <td>0.383710</td>\n",
       "      <td>0.440889</td>\n",
       "      <td>-0.768082</td>\n",
       "      <td>-0.084304</td>\n",
       "      <td>-0.234007</td>\n",
       "      <td>-0.391816</td>\n",
       "      <td>0.785568</td>\n",
       "      <td>0</td>\n",
       "    </tr>\n",
       "    <tr>\n",
       "      <th>4</th>\n",
       "      <td>0.782435</td>\n",
       "      <td>1.008417</td>\n",
       "      <td>-0.871209</td>\n",
       "      <td>0.340200</td>\n",
       "      <td>-0.243065</td>\n",
       "      <td>-0.053508</td>\n",
       "      <td>-0.374374</td>\n",
       "      <td>-0.366640</td>\n",
       "      <td>-0.445925</td>\n",
       "      <td>1.237135</td>\n",
       "      <td>0</td>\n",
       "    </tr>\n",
       "  </tbody>\n",
       "</table>\n",
       "</div>"
      ],
      "text/plain": [
       "     income       frq       rcn   clothes   kitchen  small_appliances  \\\n",
       "0  0.743162  1.191605  0.457819 -0.617023 -0.243065          1.216847   \n",
       "1  1.559488  1.100011 -1.535723  0.166160 -0.790228          0.740464   \n",
       "2 -1.548542 -0.823463  0.557496 -0.834573  1.672006         -0.371096   \n",
       "3  0.845528  0.550447 -1.402820  0.383710  0.440889         -0.768082   \n",
       "4  0.782435  1.008417 -0.871209  0.340200 -0.243065         -0.053508   \n",
       "\n",
       "       toys  house_keeping  per_net_purchase  spent_online  dbscan_labels  \n",
       "0  0.495837      -0.499274         -1.257560      0.522055              0  \n",
       "1 -0.374374      -0.631907         -1.798649     -0.237578              0  \n",
       "2 -0.809480       2.286023          0.906799     -0.904191              0  \n",
       "3 -0.084304      -0.234007         -0.391816      0.785568              0  \n",
       "4 -0.374374      -0.366640         -0.445925      1.237135              0  "
      ]
     },
     "execution_count": 28,
     "metadata": {},
     "output_type": "execute_result"
    }
   ],
   "source": [
    "# Concatenating the labels to df\n",
    "df_concat = pd.concat([df[metric_features], pd.Series(dbscan_labels, index=df.index, name=\"dbscan_labels\")], axis=1)\n",
    "df_concat.head()"
   ]
  },
  {
   "cell_type": "code",
   "execution_count": 29,
   "metadata": {},
   "outputs": [
    {
     "data": {
      "text/html": [
       "<div>\n",
       "<style scoped>\n",
       "    .dataframe tbody tr th:only-of-type {\n",
       "        vertical-align: middle;\n",
       "    }\n",
       "\n",
       "    .dataframe tbody tr th {\n",
       "        vertical-align: top;\n",
       "    }\n",
       "\n",
       "    .dataframe thead th {\n",
       "        text-align: right;\n",
       "    }\n",
       "</style>\n",
       "<table border=\"1\" class=\"dataframe\">\n",
       "  <thead>\n",
       "    <tr style=\"text-align: right;\">\n",
       "      <th></th>\n",
       "      <th>income</th>\n",
       "      <th>frq</th>\n",
       "      <th>rcn</th>\n",
       "      <th>clothes</th>\n",
       "      <th>kitchen</th>\n",
       "      <th>small_appliances</th>\n",
       "      <th>toys</th>\n",
       "      <th>house_keeping</th>\n",
       "      <th>per_net_purchase</th>\n",
       "      <th>spent_online</th>\n",
       "      <th>dbscan_labels</th>\n",
       "    </tr>\n",
       "  </thead>\n",
       "  <tbody>\n",
       "    <tr>\n",
       "      <th>15</th>\n",
       "      <td>1.550018</td>\n",
       "      <td>2.199138</td>\n",
       "      <td>0.657173</td>\n",
       "      <td>-1.400205</td>\n",
       "      <td>-0.790228</td>\n",
       "      <td>0.502272</td>\n",
       "      <td>1.075978</td>\n",
       "      <td>3.214455</td>\n",
       "      <td>-1.041124</td>\n",
       "      <td>1.723881</td>\n",
       "      <td>-1</td>\n",
       "    </tr>\n",
       "    <tr>\n",
       "      <th>18</th>\n",
       "      <td>0.705467</td>\n",
       "      <td>-0.640275</td>\n",
       "      <td>-0.273146</td>\n",
       "      <td>-1.704776</td>\n",
       "      <td>-0.379855</td>\n",
       "      <td>-1.165068</td>\n",
       "      <td>3.976684</td>\n",
       "      <td>3.877621</td>\n",
       "      <td>-1.473995</td>\n",
       "      <td>-0.707594</td>\n",
       "      <td>-1</td>\n",
       "    </tr>\n",
       "    <tr>\n",
       "      <th>77</th>\n",
       "      <td>-0.409958</td>\n",
       "      <td>0.733635</td>\n",
       "      <td>1.255236</td>\n",
       "      <td>-1.226165</td>\n",
       "      <td>-0.653437</td>\n",
       "      <td>1.852024</td>\n",
       "      <td>2.381296</td>\n",
       "      <td>-0.897173</td>\n",
       "      <td>1.339671</td>\n",
       "      <td>2.022158</td>\n",
       "      <td>-1</td>\n",
       "    </tr>\n",
       "    <tr>\n",
       "      <th>148</th>\n",
       "      <td>0.053647</td>\n",
       "      <td>0.642041</td>\n",
       "      <td>-0.007341</td>\n",
       "      <td>-0.530003</td>\n",
       "      <td>2.492751</td>\n",
       "      <td>-1.244465</td>\n",
       "      <td>1.366049</td>\n",
       "      <td>0.031259</td>\n",
       "      <td>0.528037</td>\n",
       "      <td>1.301679</td>\n",
       "      <td>-1</td>\n",
       "    </tr>\n",
       "    <tr>\n",
       "      <th>154</th>\n",
       "      <td>-1.363078</td>\n",
       "      <td>-1.189839</td>\n",
       "      <td>1.554267</td>\n",
       "      <td>-1.791796</td>\n",
       "      <td>1.261634</td>\n",
       "      <td>-1.403260</td>\n",
       "      <td>1.656119</td>\n",
       "      <td>5.071320</td>\n",
       "      <td>-0.067162</td>\n",
       "      <td>-0.985227</td>\n",
       "      <td>-1</td>\n",
       "    </tr>\n",
       "    <tr>\n",
       "      <th>...</th>\n",
       "      <td>...</td>\n",
       "      <td>...</td>\n",
       "      <td>...</td>\n",
       "      <td>...</td>\n",
       "      <td>...</td>\n",
       "      <td>...</td>\n",
       "      <td>...</td>\n",
       "      <td>...</td>\n",
       "      <td>...</td>\n",
       "      <td>...</td>\n",
       "      <td>...</td>\n",
       "    </tr>\n",
       "    <tr>\n",
       "      <th>8688</th>\n",
       "      <td>-1.258253</td>\n",
       "      <td>-1.006651</td>\n",
       "      <td>1.587493</td>\n",
       "      <td>-1.791796</td>\n",
       "      <td>3.860658</td>\n",
       "      <td>0.978655</td>\n",
       "      <td>-0.229339</td>\n",
       "      <td>0.296525</td>\n",
       "      <td>1.177344</td>\n",
       "      <td>-0.986057</td>\n",
       "      <td>-1</td>\n",
       "    </tr>\n",
       "    <tr>\n",
       "      <th>8691</th>\n",
       "      <td>0.751567</td>\n",
       "      <td>0.458853</td>\n",
       "      <td>-0.073792</td>\n",
       "      <td>-1.313185</td>\n",
       "      <td>2.219169</td>\n",
       "      <td>-0.768082</td>\n",
       "      <td>0.350802</td>\n",
       "      <td>2.816556</td>\n",
       "      <td>-0.932906</td>\n",
       "      <td>0.350730</td>\n",
       "      <td>-1</td>\n",
       "    </tr>\n",
       "    <tr>\n",
       "      <th>8773</th>\n",
       "      <td>0.356305</td>\n",
       "      <td>-1.373027</td>\n",
       "      <td>1.587493</td>\n",
       "      <td>-0.399472</td>\n",
       "      <td>-0.516646</td>\n",
       "      <td>-0.291699</td>\n",
       "      <td>3.106472</td>\n",
       "      <td>-0.631907</td>\n",
       "      <td>0.636254</td>\n",
       "      <td>-0.994125</td>\n",
       "      <td>-1</td>\n",
       "    </tr>\n",
       "    <tr>\n",
       "      <th>8803</th>\n",
       "      <td>0.687849</td>\n",
       "      <td>0.550447</td>\n",
       "      <td>-1.568948</td>\n",
       "      <td>-1.400205</td>\n",
       "      <td>4.407821</td>\n",
       "      <td>-0.291699</td>\n",
       "      <td>-0.519409</td>\n",
       "      <td>0.959691</td>\n",
       "      <td>-1.311668</td>\n",
       "      <td>0.033114</td>\n",
       "      <td>-1</td>\n",
       "    </tr>\n",
       "    <tr>\n",
       "      <th>8809</th>\n",
       "      <td>0.626554</td>\n",
       "      <td>0.092477</td>\n",
       "      <td>-1.137014</td>\n",
       "      <td>-0.747553</td>\n",
       "      <td>1.945588</td>\n",
       "      <td>-1.562054</td>\n",
       "      <td>4.121719</td>\n",
       "      <td>-0.764540</td>\n",
       "      <td>-1.798649</td>\n",
       "      <td>-0.618788</td>\n",
       "      <td>-1</td>\n",
       "    </tr>\n",
       "  </tbody>\n",
       "</table>\n",
       "<p>249 rows × 11 columns</p>\n",
       "</div>"
      ],
      "text/plain": [
       "        income       frq       rcn   clothes   kitchen  small_appliances  \\\n",
       "15    1.550018  2.199138  0.657173 -1.400205 -0.790228          0.502272   \n",
       "18    0.705467 -0.640275 -0.273146 -1.704776 -0.379855         -1.165068   \n",
       "77   -0.409958  0.733635  1.255236 -1.226165 -0.653437          1.852024   \n",
       "148   0.053647  0.642041 -0.007341 -0.530003  2.492751         -1.244465   \n",
       "154  -1.363078 -1.189839  1.554267 -1.791796  1.261634         -1.403260   \n",
       "...        ...       ...       ...       ...       ...               ...   \n",
       "8688 -1.258253 -1.006651  1.587493 -1.791796  3.860658          0.978655   \n",
       "8691  0.751567  0.458853 -0.073792 -1.313185  2.219169         -0.768082   \n",
       "8773  0.356305 -1.373027  1.587493 -0.399472 -0.516646         -0.291699   \n",
       "8803  0.687849  0.550447 -1.568948 -1.400205  4.407821         -0.291699   \n",
       "8809  0.626554  0.092477 -1.137014 -0.747553  1.945588         -1.562054   \n",
       "\n",
       "          toys  house_keeping  per_net_purchase  spent_online  dbscan_labels  \n",
       "15    1.075978       3.214455         -1.041124      1.723881             -1  \n",
       "18    3.976684       3.877621         -1.473995     -0.707594             -1  \n",
       "77    2.381296      -0.897173          1.339671      2.022158             -1  \n",
       "148   1.366049       0.031259          0.528037      1.301679             -1  \n",
       "154   1.656119       5.071320         -0.067162     -0.985227             -1  \n",
       "...        ...            ...               ...           ...            ...  \n",
       "8688 -0.229339       0.296525          1.177344     -0.986057             -1  \n",
       "8691  0.350802       2.816556         -0.932906      0.350730             -1  \n",
       "8773  3.106472      -0.631907          0.636254     -0.994125             -1  \n",
       "8803 -0.519409       0.959691         -1.311668      0.033114             -1  \n",
       "8809  4.121719      -0.764540         -1.798649     -0.618788             -1  \n",
       "\n",
       "[249 rows x 11 columns]"
      ]
     },
     "execution_count": 29,
     "metadata": {},
     "output_type": "execute_result"
    }
   ],
   "source": [
    "# Detecting noise (potential outliers)\n",
    "# TO-DO: can we identify the noisy data? \n",
    "df_concat[df_concat['dbscan_labels']==-1]"
   ]
  },
  {
   "cell_type": "code",
   "execution_count": 32,
   "metadata": {},
   "outputs": [
    {
     "name": "stdout",
     "output_type": "stream",
     "text": [
      "Cluster solution with R^2 of 0.0000\n"
     ]
    }
   ],
   "source": [
    "# Computing the R^2 of the cluster solution\n",
    "df_nonoise = df_concat[df_concat['dbscan_labels']!=-1]# TO-DO: Remove the noisy data (we don't want to include it in the R² computation. Why?) \n",
    "sst = get_ss(df_nonoise)  # get total sum of squares\n",
    "ssw_labels = df_nonoise.groupby(by='dbscan_labels').apply(get_ss)  # compute ssw for each cluster labels\n",
    "ssb = sst - np.sum(ssw_labels)  # remember: SST = SSW + SSB\n",
    "r2 = ssb / sst\n",
    "print(\"Cluster solution with R^2 of %0.4f\" % r2)"
   ]
  },
  {
   "cell_type": "markdown",
   "metadata": {},
   "source": [
    "- Why did the DBSCAN gave us just one cluster?\n",
    "- What can we do with the noisy data?"
   ]
  },
  {
   "cell_type": "markdown",
   "metadata": {},
   "source": [
    "## GMM (Gaussian Mixture Model )\n",
    "What is GMM? How does it work?\n",
    "![](../figures/gmm.gif)\n",
    "\n",
    "--- \n",
    "\n",
    "$$\\mathcal{p(\\vec{x})} \\ = \\ \\sum_{i=1}^K \\phi_i \\mathcal{N}(\\vec{x}|\\vec{\\mu_i}, \\Sigma_i) \\tag{eq1}$$\n",
    "$$\\mathcal{N}(\\vec{x}|\\vec{\\mu_i}, \\Sigma_i) \\ = \\ \\frac{1}{\\sqrt{{(2\\pi)}^{K}|\\Sigma_i|}}e^{-\\frac{1}{2} (\\vec{x} - \\vec{\\mu_i})^T \\Sigma_i^{-1} (\\vec{x} - \\vec{\\mu_i})} \\tag{eq2}$$\n",
    "$$\\sum_{i=1}^K \\phi_i \\ = \\ 1 \\tag{eq3}$$\n",
    "\n",
    ", where:\n",
    "- $\\phi_i$ is the component weight (scalar) for Component $i$ (probability of an observation being generated by Component $i$)\n",
    "- $\\vec{\\mu_i}$ is the mean vector for Component $i$,\n",
    "- $\\Sigma_i$ is the Covariance matrix for Component $i$\n",
    "\n",
    "---\n",
    "\n",
    "- **(eq1)** gives the probability of a point $x$ given the estimated Gaussian mixture\n",
    "- **(eq2)** is the probability density function of a multivariate Gaussian with mean $\\vec{\\mu_i}$ and covariance $\\Sigma_i$\n",
    "- **(eq3)** states that the sum of the component weights is 1, such that the total probability distribution normalizes to 1\n",
    "\n",
    "### Characteristics:\n",
    "- Assumes the data is generated from a mixture of finite number of Gaussian distributions with unknown parameters\n",
    "- Use the EM (Expectation Maximization algorithm) to estimate the parameters\n",
    "- Provides a probability of each observation belonging to each cluster\n",
    "- Advantages over K-Means:\n",
    "    - Can deal with spherical and elipsoid cluster shapes\n",
    "    - Number of components needs to be defined apriori"
   ]
  },
  {
   "cell_type": "code",
   "execution_count": 33,
   "metadata": {},
   "outputs": [],
   "source": [
    "# Performing GMM clustering\n",
    "# TO-DO: explore the GaussianMixture class and obtain the cluster labels and the cluster probabilities\n",
    "gmm = GaussianMixture(n_components=4,n_init=10,init_params='kmeans',random_state=9)\n",
    "gmm_labels = gmm.fit_predict(df[metric_features])\n",
    "labels_proba = gmm.predict_proba(df[metric_features])"
   ]
  },
  {
   "cell_type": "code",
   "execution_count": 34,
   "metadata": {},
   "outputs": [
    {
     "data": {
      "text/plain": [
       "(array([1, 1, 2, ..., 3, 1, 0], dtype=int64),\n",
       " array([[3.03323346e-013, 1.00000000e+000, 8.77681222e-034,\n",
       "         1.06585966e-022],\n",
       "        [6.52588351e-009, 9.99999993e-001, 2.45640665e-086,\n",
       "         2.93219842e-054],\n",
       "        [4.34388726e-162, 1.65942946e-015, 1.00000000e+000,\n",
       "         1.26244758e-019],\n",
       "        ...,\n",
       "        [9.49704291e-009, 3.08010813e-023, 8.08876582e-002,\n",
       "         9.19112332e-001],\n",
       "        [2.56475303e-029, 9.99667625e-001, 1.61295765e-013,\n",
       "         3.32374968e-004],\n",
       "        [9.36771030e-001, 6.32289700e-002, 7.03303673e-160,\n",
       "         4.53710764e-024]]))"
      ]
     },
     "execution_count": 34,
     "metadata": {},
     "output_type": "execute_result"
    }
   ],
   "source": [
    "gmm_labels, labels_proba"
   ]
  },
  {
   "cell_type": "markdown",
   "metadata": {},
   "source": [
    "**Let's look at the estimated parameters:**"
   ]
  },
  {
   "cell_type": "code",
   "execution_count": 35,
   "metadata": {},
   "outputs": [
    {
     "data": {
      "text/plain": [
       "array([0.19056245, 0.33573405, 0.22324086, 0.25046264])"
      ]
     },
     "execution_count": 35,
     "metadata": {},
     "output_type": "execute_result"
    }
   ],
   "source": [
    "# The estimated component weights\n",
    "gmm.weights_"
   ]
  },
  {
   "cell_type": "code",
   "execution_count": 36,
   "metadata": {},
   "outputs": [
    {
     "data": {
      "text/plain": [
       "array([[ 0.21128311,  0.28525367, -0.05961622,  1.24696862, -0.74404013,\n",
       "        -1.0050323 , -0.75556642, -0.71880209,  0.34778967,  0.78361992],\n",
       "       [ 0.97539549,  0.94396949, -0.05327009, -0.28611798,  0.1233094 ,\n",
       "         0.33348291,  0.12544242,  0.08199964, -1.06946684,  0.49884501],\n",
       "       [-1.10304781, -0.91550901,  0.10629403, -1.04234973,  0.9316929 ,\n",
       "         0.29434537,  0.91534146,  0.9465233 ,  0.68134282, -0.83563577],\n",
       "       [-0.4850654 , -0.66637609,  0.02202334,  0.36384347, -0.42962485,\n",
       "         0.05529744, -0.40914011, -0.40667166,  0.56166947, -0.52007653]])"
      ]
     },
     "execution_count": 36,
     "metadata": {},
     "output_type": "execute_result"
    }
   ],
   "source": [
    "# The estimated mean vectors of the Components\n",
    "gmm.means_"
   ]
  },
  {
   "cell_type": "code",
   "execution_count": 37,
   "metadata": {},
   "outputs": [
    {
     "data": {
      "text/plain": [
       "(4, 10, 10)"
      ]
     },
     "execution_count": 37,
     "metadata": {},
     "output_type": "execute_result"
    }
   ],
   "source": [
    "# The estimated covariance matrices of the Components\n",
    "gmm.covariances_.shape"
   ]
  },
  {
   "cell_type": "markdown",
   "metadata": {},
   "source": [
    "### Defining covariance_type:\n",
    "This hyperparameter controls the **degrees of freedom** in the shape of each cluster The more degrees of freedom we have the more complex shapes the model can fit and the more computationally expensive the model will be.\n",
    "\n",
    "![](../figures/gmm_covariance.png)\n",
    "\n",
    "- `covariance_type=\"tied\"` makes all components share the same general covariance matrix"
   ]
  },
  {
   "cell_type": "markdown",
   "metadata": {},
   "source": [
    "### Defining n_components:\n",
    "\n",
    "**AIC**: estimates the relative amount of information lost by a model used to represent the data-generation process. The smaller the better.\n",
    "\n",
    "**BIC**: similar to AIC but penalizes more complex models (i.e. favors simpler models). The smaller the better."
   ]
  },
  {
   "cell_type": "code",
   "execution_count": 38,
   "metadata": {
    "scrolled": false
   },
   "outputs": [
    {
     "data": {
      "image/png": "[encoded data removed]",
      "text/plain": [
       "<Figure size 432x288 with 1 Axes>"
      ]
     },
     "metadata": {
      "needs_background": "light"
     },
     "output_type": "display_data"
    }
   ],
   "source": [
    "# Selecting number of components based on AIC and BIC\n",
    "n_components = np.arange(1, 16)\n",
    "models = [GaussianMixture(n, covariance_type='full', n_init=10, random_state=1).fit(df[metric_features])\n",
    "          for n in n_components]\n",
    "\n",
    "# TO-DO: compute the aic and bic values for each cluster solution. Use the appropriate GMM methods.\n",
    "#we want the lowest values here:\n",
    "bic_values = [gmm.bic(df[metric_features]) for gmm in models]\n",
    "aic_values = [gmm.aic(df[metric_features]) for gmm in models]\n",
    "plt.plot(n_components, bic_values, label='BIC')\n",
    "plt.plot(n_components, aic_values, label='AIC')\n",
    "plt.legend(loc='best')\n",
    "plt.xlabel('n_components')\n",
    "plt.xticks(n_components)\n",
    "plt.show()"
   ]
  },
  {
   "cell_type": "code",
   "execution_count": null,
   "metadata": {},
   "outputs": [],
   "source": [
    "#number of componendts to keep: 3-5"
   ]
  },
  {
   "cell_type": "markdown",
   "metadata": {},
   "source": [
    "**Note**: the AIC and BIC measures can also be used to select diferent hyperparameters such as the covariance_type"
   ]
  },
  {
   "cell_type": "code",
   "execution_count": 39,
   "metadata": {},
   "outputs": [],
   "source": [
    "# Performing GMM clustering\n",
    "# TO-DO: Re-cluster the data using the defined hyperparameters\n",
    "gmm = GaussianMixture(5, covariance_type='full', n_init=10, random_state=1)\n",
    "gmm_labels = gmm.fit_predict(df[metric_features])"
   ]
  },
  {
   "cell_type": "code",
   "execution_count": 40,
   "metadata": {},
   "outputs": [
    {
     "data": {
      "text/plain": [
       "Counter({2: 1645, 4: 2140, 1: 1595, 0: 1486, 3: 1951})"
      ]
     },
     "execution_count": 40,
     "metadata": {},
     "output_type": "execute_result"
    }
   ],
   "source": [
    "Counter(gmm_labels)"
   ]
  },
  {
   "cell_type": "code",
   "execution_count": 42,
   "metadata": {},
   "outputs": [
    {
     "data": {
      "text/html": [
       "<div>\n",
       "<style scoped>\n",
       "    .dataframe tbody tr th:only-of-type {\n",
       "        vertical-align: middle;\n",
       "    }\n",
       "\n",
       "    .dataframe tbody tr th {\n",
       "        vertical-align: top;\n",
       "    }\n",
       "\n",
       "    .dataframe thead th {\n",
       "        text-align: right;\n",
       "    }\n",
       "</style>\n",
       "<table border=\"1\" class=\"dataframe\">\n",
       "  <thead>\n",
       "    <tr style=\"text-align: right;\">\n",
       "      <th></th>\n",
       "      <th>income</th>\n",
       "      <th>frq</th>\n",
       "      <th>rcn</th>\n",
       "      <th>clothes</th>\n",
       "      <th>kitchen</th>\n",
       "      <th>small_appliances</th>\n",
       "      <th>toys</th>\n",
       "      <th>house_keeping</th>\n",
       "      <th>per_net_purchase</th>\n",
       "      <th>spent_online</th>\n",
       "    </tr>\n",
       "    <tr>\n",
       "      <th>gmm_labels</th>\n",
       "      <th></th>\n",
       "      <th></th>\n",
       "      <th></th>\n",
       "      <th></th>\n",
       "      <th></th>\n",
       "      <th></th>\n",
       "      <th></th>\n",
       "      <th></th>\n",
       "      <th></th>\n",
       "      <th></th>\n",
       "    </tr>\n",
       "  </thead>\n",
       "  <tbody>\n",
       "    <tr>\n",
       "      <th>0</th>\n",
       "      <td>0.614945</td>\n",
       "      <td>0.837741</td>\n",
       "      <td>0.009339</td>\n",
       "      <td>0.862058</td>\n",
       "      <td>-0.524379</td>\n",
       "      <td>-0.656574</td>\n",
       "      <td>-0.556400</td>\n",
       "      <td>-0.518374</td>\n",
       "      <td>-0.092687</td>\n",
       "      <td>1.403390</td>\n",
       "    </tr>\n",
       "    <tr>\n",
       "      <th>1</th>\n",
       "      <td>0.071543</td>\n",
       "      <td>-0.034836</td>\n",
       "      <td>-0.113392</td>\n",
       "      <td>-0.393198</td>\n",
       "      <td>0.319793</td>\n",
       "      <td>0.135751</td>\n",
       "      <td>0.391630</td>\n",
       "      <td>0.307169</td>\n",
       "      <td>0.014018</td>\n",
       "      <td>0.159690</td>\n",
       "    </tr>\n",
       "    <tr>\n",
       "      <th>2</th>\n",
       "      <td>1.260812</td>\n",
       "      <td>1.264935</td>\n",
       "      <td>-0.046565</td>\n",
       "      <td>-0.474431</td>\n",
       "      <td>0.104442</td>\n",
       "      <td>0.723523</td>\n",
       "      <td>0.101994</td>\n",
       "      <td>0.045450</td>\n",
       "      <td>-1.517677</td>\n",
       "      <td>0.268779</td>\n",
       "    </tr>\n",
       "    <tr>\n",
       "      <th>3</th>\n",
       "      <td>-0.353446</td>\n",
       "      <td>-0.585628</td>\n",
       "      <td>-0.008993</td>\n",
       "      <td>0.972201</td>\n",
       "      <td>-0.688844</td>\n",
       "      <td>-0.602410</td>\n",
       "      <td>-0.685260</td>\n",
       "      <td>-0.666034</td>\n",
       "      <td>0.566947</td>\n",
       "      <td>-0.423467</td>\n",
       "    </tr>\n",
       "    <tr>\n",
       "      <th>4</th>\n",
       "      <td>-1.127281</td>\n",
       "      <td>-0.994196</td>\n",
       "      <td>0.122022</td>\n",
       "      <td>-0.827193</td>\n",
       "      <td>0.673497</td>\n",
       "      <td>0.347782</td>\n",
       "      <td>0.640805</td>\n",
       "      <td>0.703288</td>\n",
       "      <td>0.703663</td>\n",
       "      <td>-0.914065</td>\n",
       "    </tr>\n",
       "  </tbody>\n",
       "</table>\n",
       "</div>"
      ],
      "text/plain": [
       "              income       frq       rcn   clothes   kitchen  \\\n",
       "gmm_labels                                                     \n",
       "0           0.614945  0.837741  0.009339  0.862058 -0.524379   \n",
       "1           0.071543 -0.034836 -0.113392 -0.393198  0.319793   \n",
       "2           1.260812  1.264935 -0.046565 -0.474431  0.104442   \n",
       "3          -0.353446 -0.585628 -0.008993  0.972201 -0.688844   \n",
       "4          -1.127281 -0.994196  0.122022 -0.827193  0.673497   \n",
       "\n",
       "            small_appliances      toys  house_keeping  per_net_purchase  \\\n",
       "gmm_labels                                                                \n",
       "0                  -0.656574 -0.556400      -0.518374         -0.092687   \n",
       "1                   0.135751  0.391630       0.307169          0.014018   \n",
       "2                   0.723523  0.101994       0.045450         -1.517677   \n",
       "3                  -0.602410 -0.685260      -0.666034          0.566947   \n",
       "4                   0.347782  0.640805       0.703288          0.703663   \n",
       "\n",
       "            spent_online  \n",
       "gmm_labels                \n",
       "0               1.403390  \n",
       "1               0.159690  \n",
       "2               0.268779  \n",
       "3              -0.423467  \n",
       "4              -0.914065  "
      ]
     },
     "execution_count": 42,
     "metadata": {},
     "output_type": "execute_result"
    }
   ],
   "source": [
    "# Concatenating the labels to df\n",
    "df_concat = pd.concat([df[metric_features], pd.Series(gmm_labels, index=df.index, name=\"gmm_labels\")], axis=1)\n",
    "df_concat.groupby('gmm_labels').mean()"
   ]
  },
  {
   "cell_type": "code",
   "execution_count": 43,
   "metadata": {},
   "outputs": [
    {
     "name": "stdout",
     "output_type": "stream",
     "text": [
      "Cluster solution with R^2 of 0.4354\n"
     ]
    }
   ],
   "source": [
    "# Computing the R^2 of the cluster solution\n",
    "sst = get_ss(df[metric_features])  # get total sum of squares\n",
    "ssw_labels = df_concat.groupby(by='gmm_labels').apply(get_ss)  # compute ssw for each cluster labels\n",
    "ssb = sst - np.sum(ssw_labels)  # remember: SST = SSW + SSB\n",
    "r2 = ssb / sst\n",
    "print(\"Cluster solution with R^2 of %0.4f\" % r2)"
   ]
  },
  {
   "cell_type": "markdown",
   "metadata": {},
   "source": [
    "# Clustering by Perspectives\n",
    "- Demographic Perspective:\n",
    "- Value Perspective:\n",
    "- Product Perspective:"
   ]
  },
  {
   "cell_type": "markdown",
   "metadata": {},
   "source": [
    "## Merging the Perspectives\n",
    "- How can we merge different cluster solutions?"
   ]
  },
  {
   "cell_type": "code",
   "execution_count": null,
   "metadata": {},
   "outputs": [],
   "source": []
  }
 ],
 "metadata": {
  "kernelspec": {
   "display_name": "Python 3",
   "language": "python",
   "name": "python3"
  },
  "language_info": {
   "codemirror_mode": {
    "name": "ipython",
    "version": 3
   },
   "file_extension": ".py",
   "mimetype": "text/x-python",
   "name": "python",
   "nbconvert_exporter": "python",
   "pygments_lexer": "ipython3",
   "version": "3.8.8"
  }
 },
 "nbformat": 4,
 "nbformat_minor": 4
}
