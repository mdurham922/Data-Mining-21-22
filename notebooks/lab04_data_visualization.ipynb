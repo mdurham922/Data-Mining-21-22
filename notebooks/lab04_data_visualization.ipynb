{
 "cells": [
  {
   "cell_type": "markdown",
   "metadata": {},
   "source": [
    "## Install a package from a different conda channel\n",
    "\n",
    "Open a terminal and run the following commands:\n",
    "\n",
    "    conda activate <ENV_NAME>\n",
    "    conda install -c conda-forge pandas-profiling -y\n",
    "  \n",
    "- The `<ENV_NAME>` refers to the name of the environment you'll be working with for this project\n",
    "- The `!` indicates a terminal command\n",
    "- The `-c` flag indicates the channel we're using to get the package\n",
    "- The `-y` flag indicates that we're confirming the installation of pandas-profiling and its dependencies a priori\n",
    "\n",
    "We're installing `pandas-profiling` through this method because Anaconda's `default` channel contains an outdated version of this package, whereas the channel `conda-forge` has an updated version."
   ]
  },
  {
   "cell_type": "code",
   "execution_count": 1,
   "metadata": {},
   "outputs": [],
   "source": [
    "# Remember: library imports are ALWAYS at the top of the script, no exceptions!\n",
    "import sqlite3\n",
    "import os\n",
    "import pandas as pd\n",
    "import numpy as np\n",
    "import matplotlib.pyplot as plt\n",
    "import seaborn as sns\n",
    "from math import ceil\n",
    "\n",
    "# notice we are adding two new imports for visualizations; This was not here last class\n",
    "from itertools import product\n",
    "from pandas_profiling import ProfileReport\n",
    "\n",
    "%matplotlib inline\n",
    "\n",
    "# for better resolution plots\n",
    "%config InlineBackend.figure_format = 'retina' # optionally, you can change 'svg' to 'retina'\n",
    "\n",
    "# Seeting seaborn style\n",
    "sns.set()"
   ]
  },
  {
   "cell_type": "markdown",
   "metadata": {},
   "source": [
    "# Context\n",
    "The data we will be using through the pratical classes comes from a small relational database whose schema can be seen below:\n",
    "![alt text](../figures/schema.png \"Relation database schema\")"
   ]
  },
  {
   "cell_type": "markdown",
   "metadata": {},
   "source": [
    "# Reading the Data"
   ]
  },
  {
   "cell_type": "code",
   "execution_count": 2,
   "metadata": {},
   "outputs": [],
   "source": [
    "# path to database\n",
    "my_path = os.path.join(\"..\", \"data\", \"datamining.db\")\n",
    "\n",
    "# connect to the database\n",
    "conn = sqlite3.connect(my_path)\n",
    "\n",
    "# the query\n",
    "query = \"\"\"\n",
    "select\n",
    "    age, \n",
    "    income, \n",
    "    frq, \n",
    "    rcn, \n",
    "    mnt, \n",
    "    clothes, \n",
    "    kitchen, \n",
    "    small_appliances, \n",
    "    toys, \n",
    "    house_keeping,\n",
    "    dependents, \n",
    "    per_net_purchase,\n",
    "    g.gender, \n",
    "    e.education, \n",
    "    m.status, \n",
    "    r.description\n",
    "from customers as c\n",
    "    join genders as g on g.id = c.gender_id\n",
    "    join education_levels as e on e.id = c.education_id\n",
    "    join marital_status as m on m.id = c.marital_status_id\n",
    "    join recommendations as r on r.id = c.recommendation_id\n",
    "order by c.id;\n",
    "\"\"\"\n",
    "\n",
    "df = pd.read_sql_query(query, conn)"
   ]
  },
  {
   "cell_type": "markdown",
   "metadata": {},
   "source": [
    "# Metadata\n",
    "- *id* - The unique identifier of the customer\n",
    "- *age* - The year of birht of the customer\n",
    "- *income* - The income of the customer\n",
    "- *frq* - Frequency: number of purchases made by the customer\n",
    "- *rcn* - Recency: number of days since last customer purchase\n",
    "- *mnt* - Monetary: amount of € spent by the customer in purchases\n",
    "- *clothes* - Number of clothes items purchased by the customer\n",
    "- *kitchen* - Number of kitchen items purchased by the customer\n",
    "- *small_appliances* - Number of small_appliances items purchased by the customer\n",
    "- *toys* - Number of toys items purchased by the customer\n",
    "- *house_keeping* - Number of house_keeping items purchased by the customer\n",
    "- *dependents* - Binary. Whether or not the customer has dependents\n",
    "- *per_net_purchase* - Percentage of purchases made online\n",
    "- *education* - Education level of the customer\n",
    "- *status* - Marital status of the customer\n",
    "- *gender* - Gender of the customer\n",
    "- *description* - Last customer's recommendation description"
   ]
  },
  {
   "cell_type": "markdown",
   "metadata": {},
   "source": [
    "# Initial Analysis\n",
    "\n",
    "Pandas user guide: https://pandas.pydata.org/pandas-docs/stable/user_guide/index.html\n",
    "\n",
    "Pandas 10 min tutorial: https://pandas.pydata.org/pandas-docs/stable/user_guide/10min.html"
   ]
  },
  {
   "cell_type": "code",
   "execution_count": 3,
   "metadata": {},
   "outputs": [
    {
     "data": {
      "text/html": [
       "<div>\n",
       "<style scoped>\n",
       "    .dataframe tbody tr th:only-of-type {\n",
       "        vertical-align: middle;\n",
       "    }\n",
       "\n",
       "    .dataframe tbody tr th {\n",
       "        vertical-align: top;\n",
       "    }\n",
       "\n",
       "    .dataframe thead th {\n",
       "        text-align: right;\n",
       "    }\n",
       "</style>\n",
       "<table border=\"1\" class=\"dataframe\">\n",
       "  <thead>\n",
       "    <tr style=\"text-align: right;\">\n",
       "      <th></th>\n",
       "      <th>age</th>\n",
       "      <th>income</th>\n",
       "      <th>frq</th>\n",
       "      <th>rcn</th>\n",
       "      <th>mnt</th>\n",
       "      <th>clothes</th>\n",
       "      <th>kitchen</th>\n",
       "      <th>small_appliances</th>\n",
       "      <th>toys</th>\n",
       "      <th>house_keeping</th>\n",
       "      <th>dependents</th>\n",
       "      <th>per_net_purchase</th>\n",
       "      <th>gender</th>\n",
       "      <th>education</th>\n",
       "      <th>status</th>\n",
       "      <th>description</th>\n",
       "    </tr>\n",
       "  </thead>\n",
       "  <tbody>\n",
       "    <tr>\n",
       "      <th>0</th>\n",
       "      <td>1946</td>\n",
       "      <td>90782</td>\n",
       "      <td>33</td>\n",
       "      <td>66</td>\n",
       "      <td>1402</td>\n",
       "      <td>37</td>\n",
       "      <td>5</td>\n",
       "      <td>44</td>\n",
       "      <td>10</td>\n",
       "      <td>3</td>\n",
       "      <td>0</td>\n",
       "      <td>19</td>\n",
       "      <td>M</td>\n",
       "      <td>Graduation</td>\n",
       "      <td>Together</td>\n",
       "      <td>Take my money!!</td>\n",
       "    </tr>\n",
       "    <tr>\n",
       "      <th>1</th>\n",
       "      <td>1936</td>\n",
       "      <td>113023</td>\n",
       "      <td>32</td>\n",
       "      <td>6</td>\n",
       "      <td>1537</td>\n",
       "      <td>55</td>\n",
       "      <td>1</td>\n",
       "      <td>38</td>\n",
       "      <td>4</td>\n",
       "      <td>2</td>\n",
       "      <td>0</td>\n",
       "      <td>9</td>\n",
       "      <td>F</td>\n",
       "      <td>PhD</td>\n",
       "      <td>Divorced</td>\n",
       "      <td>Take my money!!</td>\n",
       "    </tr>\n",
       "    <tr>\n",
       "      <th>2</th>\n",
       "      <td>1990</td>\n",
       "      <td>28344</td>\n",
       "      <td>11</td>\n",
       "      <td>69</td>\n",
       "      <td>44</td>\n",
       "      <td>32</td>\n",
       "      <td>19</td>\n",
       "      <td>24</td>\n",
       "      <td>1</td>\n",
       "      <td>24</td>\n",
       "      <td>1</td>\n",
       "      <td>59</td>\n",
       "      <td>M</td>\n",
       "      <td>Graduation</td>\n",
       "      <td>Married</td>\n",
       "      <td>Kind of OK</td>\n",
       "    </tr>\n",
       "    <tr>\n",
       "      <th>3</th>\n",
       "      <td>1955</td>\n",
       "      <td>93571</td>\n",
       "      <td>26</td>\n",
       "      <td>10</td>\n",
       "      <td>888</td>\n",
       "      <td>60</td>\n",
       "      <td>10</td>\n",
       "      <td>19</td>\n",
       "      <td>6</td>\n",
       "      <td>5</td>\n",
       "      <td>1</td>\n",
       "      <td>35</td>\n",
       "      <td>F</td>\n",
       "      <td>Master</td>\n",
       "      <td></td>\n",
       "      <td>OK nice!</td>\n",
       "    </tr>\n",
       "    <tr>\n",
       "      <th>4</th>\n",
       "      <td>1955</td>\n",
       "      <td>91852</td>\n",
       "      <td>31</td>\n",
       "      <td>26</td>\n",
       "      <td>1138</td>\n",
       "      <td>59</td>\n",
       "      <td>5</td>\n",
       "      <td>28</td>\n",
       "      <td>4</td>\n",
       "      <td>4</td>\n",
       "      <td>1</td>\n",
       "      <td>34</td>\n",
       "      <td>F</td>\n",
       "      <td>Graduation</td>\n",
       "      <td>Together</td>\n",
       "      <td>Take my money!!</td>\n",
       "    </tr>\n",
       "    <tr>\n",
       "      <th>5</th>\n",
       "      <td>1982</td>\n",
       "      <td>22386</td>\n",
       "      <td>14</td>\n",
       "      <td>65</td>\n",
       "      <td>56</td>\n",
       "      <td>47</td>\n",
       "      <td>2</td>\n",
       "      <td>48</td>\n",
       "      <td>2</td>\n",
       "      <td>1</td>\n",
       "      <td>1</td>\n",
       "      <td>67</td>\n",
       "      <td>M</td>\n",
       "      <td>PhD</td>\n",
       "      <td>Single</td>\n",
       "      <td>OK nice!</td>\n",
       "    </tr>\n",
       "    <tr>\n",
       "      <th>6</th>\n",
       "      <td>1969</td>\n",
       "      <td>69485</td>\n",
       "      <td>18</td>\n",
       "      <td>73</td>\n",
       "      <td>345</td>\n",
       "      <td>71</td>\n",
       "      <td>7</td>\n",
       "      <td>13</td>\n",
       "      <td>1</td>\n",
       "      <td>8</td>\n",
       "      <td>1</td>\n",
       "      <td>46</td>\n",
       "      <td>M</td>\n",
       "      <td>Graduation</td>\n",
       "      <td>Together</td>\n",
       "      <td>OK nice!</td>\n",
       "    </tr>\n",
       "    <tr>\n",
       "      <th>7</th>\n",
       "      <td>1960</td>\n",
       "      <td>68602</td>\n",
       "      <td>5</td>\n",
       "      <td>44</td>\n",
       "      <td>41</td>\n",
       "      <td>84</td>\n",
       "      <td>1</td>\n",
       "      <td>12</td>\n",
       "      <td>2</td>\n",
       "      <td>0</td>\n",
       "      <td>1</td>\n",
       "      <td>37</td>\n",
       "      <td>M</td>\n",
       "      <td>Graduation</td>\n",
       "      <td>Together</td>\n",
       "      <td>Horrible</td>\n",
       "    </tr>\n",
       "    <tr>\n",
       "      <th>8</th>\n",
       "      <td>1940</td>\n",
       "      <td>109499</td>\n",
       "      <td>30</td>\n",
       "      <td>75</td>\n",
       "      <td>1401</td>\n",
       "      <td>38</td>\n",
       "      <td>9</td>\n",
       "      <td>35</td>\n",
       "      <td>9</td>\n",
       "      <td>9</td>\n",
       "      <td>0</td>\n",
       "      <td>17</td>\n",
       "      <td>M</td>\n",
       "      <td>Graduation</td>\n",
       "      <td>Divorced</td>\n",
       "      <td>OK nice!</td>\n",
       "    </tr>\n",
       "    <tr>\n",
       "      <th>9</th>\n",
       "      <td>1994</td>\n",
       "      <td>23846</td>\n",
       "      <td>8</td>\n",
       "      <td>153</td>\n",
       "      <td>19</td>\n",
       "      <td>18</td>\n",
       "      <td>55</td>\n",
       "      <td>17</td>\n",
       "      <td>10</td>\n",
       "      <td>1</td>\n",
       "      <td>1</td>\n",
       "      <td>39</td>\n",
       "      <td>F</td>\n",
       "      <td>1st Cycle</td>\n",
       "      <td>Together</td>\n",
       "      <td>Meh...</td>\n",
       "    </tr>\n",
       "  </tbody>\n",
       "</table>\n",
       "</div>"
      ],
      "text/plain": [
       "    age  income  frq  rcn   mnt  clothes  kitchen  small_appliances  toys  \\\n",
       "0  1946   90782   33   66  1402       37        5                44    10   \n",
       "1  1936  113023   32    6  1537       55        1                38     4   \n",
       "2  1990   28344   11   69    44       32       19                24     1   \n",
       "3  1955   93571   26   10   888       60       10                19     6   \n",
       "4  1955   91852   31   26  1138       59        5                28     4   \n",
       "5  1982   22386   14   65    56       47        2                48     2   \n",
       "6  1969   69485   18   73   345       71        7                13     1   \n",
       "7  1960   68602    5   44    41       84        1                12     2   \n",
       "8  1940  109499   30   75  1401       38        9                35     9   \n",
       "9  1994   23846    8  153    19       18       55                17    10   \n",
       "\n",
       "   house_keeping dependents  per_net_purchase gender   education    status  \\\n",
       "0              3          0                19      M  Graduation  Together   \n",
       "1              2          0                 9      F         PhD  Divorced   \n",
       "2             24          1                59      M  Graduation   Married   \n",
       "3              5          1                35      F      Master             \n",
       "4              4          1                34      F  Graduation  Together   \n",
       "5              1          1                67      M         PhD    Single   \n",
       "6              8          1                46      M  Graduation  Together   \n",
       "7              0          1                37      M  Graduation  Together   \n",
       "8              9          0                17      M  Graduation  Divorced   \n",
       "9              1          1                39      F   1st Cycle  Together   \n",
       "\n",
       "       description  \n",
       "0  Take my money!!  \n",
       "1  Take my money!!  \n",
       "2       Kind of OK  \n",
       "3         OK nice!  \n",
       "4  Take my money!!  \n",
       "5         OK nice!  \n",
       "6         OK nice!  \n",
       "7         Horrible  \n",
       "8         OK nice!  \n",
       "9           Meh...  "
      ]
     },
     "execution_count": 3,
     "metadata": {},
     "output_type": "execute_result"
    }
   ],
   "source": [
    "# dataset head\n",
    "df.head(10)"
   ]
  },
  {
   "cell_type": "code",
   "execution_count": 4,
   "metadata": {},
   "outputs": [
    {
     "data": {
      "text/plain": [
       "age                  int64\n",
       "income              object\n",
       "frq                  int64\n",
       "rcn                  int64\n",
       "mnt                  int64\n",
       "clothes              int64\n",
       "kitchen              int64\n",
       "small_appliances     int64\n",
       "toys                 int64\n",
       "house_keeping        int64\n",
       "dependents          object\n",
       "per_net_purchase     int64\n",
       "gender              object\n",
       "education           object\n",
       "status              object\n",
       "description         object\n",
       "dtype: object"
      ]
     },
     "execution_count": 4,
     "metadata": {},
     "output_type": "execute_result"
    }
   ],
   "source": [
    "# dataset data types\n",
    "df.dtypes"
   ]
  },
  {
   "cell_type": "code",
   "execution_count": 5,
   "metadata": {},
   "outputs": [
    {
     "data": {
      "text/plain": [
       "age                 0\n",
       "income              0\n",
       "frq                 0\n",
       "rcn                 0\n",
       "mnt                 0\n",
       "clothes             0\n",
       "kitchen             0\n",
       "small_appliances    0\n",
       "toys                0\n",
       "house_keeping       0\n",
       "dependents          0\n",
       "per_net_purchase    0\n",
       "gender              0\n",
       "education           0\n",
       "status              0\n",
       "description         0\n",
       "dtype: int64"
      ]
     },
     "execution_count": 5,
     "metadata": {},
     "output_type": "execute_result"
    }
   ],
   "source": [
    "# count of missing values\n",
    "df.isna().sum()"
   ]
  },
  {
   "cell_type": "code",
   "execution_count": 6,
   "metadata": {},
   "outputs": [
    {
     "data": {
      "text/plain": [
       "0"
      ]
     },
     "execution_count": 6,
     "metadata": {},
     "output_type": "execute_result"
    }
   ],
   "source": [
    "# duplicated observations\n",
    "df.duplicated().sum()"
   ]
  },
  {
   "cell_type": "code",
   "execution_count": 7,
   "metadata": {},
   "outputs": [
    {
     "data": {
      "text/html": [
       "<div>\n",
       "<style scoped>\n",
       "    .dataframe tbody tr th:only-of-type {\n",
       "        vertical-align: middle;\n",
       "    }\n",
       "\n",
       "    .dataframe tbody tr th {\n",
       "        vertical-align: top;\n",
       "    }\n",
       "\n",
       "    .dataframe thead th {\n",
       "        text-align: right;\n",
       "    }\n",
       "</style>\n",
       "<table border=\"1\" class=\"dataframe\">\n",
       "  <thead>\n",
       "    <tr style=\"text-align: right;\">\n",
       "      <th></th>\n",
       "      <th>count</th>\n",
       "      <th>unique</th>\n",
       "      <th>top</th>\n",
       "      <th>freq</th>\n",
       "      <th>mean</th>\n",
       "      <th>std</th>\n",
       "      <th>min</th>\n",
       "      <th>25%</th>\n",
       "      <th>50%</th>\n",
       "      <th>75%</th>\n",
       "      <th>max</th>\n",
       "    </tr>\n",
       "  </thead>\n",
       "  <tbody>\n",
       "    <tr>\n",
       "      <th>age</th>\n",
       "      <td>8998.0</td>\n",
       "      <td>NaN</td>\n",
       "      <td>NaN</td>\n",
       "      <td>NaN</td>\n",
       "      <td>1966.05968</td>\n",
       "      <td>17.296552</td>\n",
       "      <td>1936.0</td>\n",
       "      <td>1951.0</td>\n",
       "      <td>1966.0</td>\n",
       "      <td>1981.0</td>\n",
       "      <td>1996.0</td>\n",
       "    </tr>\n",
       "    <tr>\n",
       "      <th>income</th>\n",
       "      <td>8998</td>\n",
       "      <td>8525</td>\n",
       "      <td></td>\n",
       "      <td>46</td>\n",
       "      <td>NaN</td>\n",
       "      <td>NaN</td>\n",
       "      <td>NaN</td>\n",
       "      <td>NaN</td>\n",
       "      <td>NaN</td>\n",
       "      <td>NaN</td>\n",
       "      <td>NaN</td>\n",
       "    </tr>\n",
       "    <tr>\n",
       "      <th>frq</th>\n",
       "      <td>8998.0</td>\n",
       "      <td>NaN</td>\n",
       "      <td>NaN</td>\n",
       "      <td>NaN</td>\n",
       "      <td>19.848077</td>\n",
       "      <td>10.903435</td>\n",
       "      <td>3.0</td>\n",
       "      <td>10.0</td>\n",
       "      <td>17.0</td>\n",
       "      <td>28.0</td>\n",
       "      <td>59.0</td>\n",
       "    </tr>\n",
       "    <tr>\n",
       "      <th>rcn</th>\n",
       "      <td>8998.0</td>\n",
       "      <td>NaN</td>\n",
       "      <td>NaN</td>\n",
       "      <td>NaN</td>\n",
       "      <td>62.469771</td>\n",
       "      <td>69.761802</td>\n",
       "      <td>0.0</td>\n",
       "      <td>26.0</td>\n",
       "      <td>53.0</td>\n",
       "      <td>79.0</td>\n",
       "      <td>549.0</td>\n",
       "    </tr>\n",
       "    <tr>\n",
       "      <th>mnt</th>\n",
       "      <td>8998.0</td>\n",
       "      <td>NaN</td>\n",
       "      <td>NaN</td>\n",
       "      <td>NaN</td>\n",
       "      <td>622.162814</td>\n",
       "      <td>646.768205</td>\n",
       "      <td>6.0</td>\n",
       "      <td>63.0</td>\n",
       "      <td>383.0</td>\n",
       "      <td>1076.0</td>\n",
       "      <td>3052.0</td>\n",
       "    </tr>\n",
       "    <tr>\n",
       "      <th>clothes</th>\n",
       "      <td>8998.0</td>\n",
       "      <td>NaN</td>\n",
       "      <td>NaN</td>\n",
       "      <td>NaN</td>\n",
       "      <td>50.446655</td>\n",
       "      <td>23.422249</td>\n",
       "      <td>1.0</td>\n",
       "      <td>33.0</td>\n",
       "      <td>51.0</td>\n",
       "      <td>69.0</td>\n",
       "      <td>99.0</td>\n",
       "    </tr>\n",
       "    <tr>\n",
       "      <th>kitchen</th>\n",
       "      <td>8998.0</td>\n",
       "      <td>NaN</td>\n",
       "      <td>NaN</td>\n",
       "      <td>NaN</td>\n",
       "      <td>7.039675</td>\n",
       "      <td>7.848139</td>\n",
       "      <td>0.0</td>\n",
       "      <td>2.0</td>\n",
       "      <td>4.0</td>\n",
       "      <td>10.0</td>\n",
       "      <td>75.0</td>\n",
       "    </tr>\n",
       "    <tr>\n",
       "      <th>small_appliances</th>\n",
       "      <td>8998.0</td>\n",
       "      <td>NaN</td>\n",
       "      <td>NaN</td>\n",
       "      <td>NaN</td>\n",
       "      <td>28.524116</td>\n",
       "      <td>12.586437</td>\n",
       "      <td>1.0</td>\n",
       "      <td>19.0</td>\n",
       "      <td>28.0</td>\n",
       "      <td>37.0</td>\n",
       "      <td>74.0</td>\n",
       "    </tr>\n",
       "    <tr>\n",
       "      <th>toys</th>\n",
       "      <td>8998.0</td>\n",
       "      <td>NaN</td>\n",
       "      <td>NaN</td>\n",
       "      <td>NaN</td>\n",
       "      <td>7.036897</td>\n",
       "      <td>7.924422</td>\n",
       "      <td>0.0</td>\n",
       "      <td>2.0</td>\n",
       "      <td>4.0</td>\n",
       "      <td>10.0</td>\n",
       "      <td>62.0</td>\n",
       "    </tr>\n",
       "    <tr>\n",
       "      <th>house_keeping</th>\n",
       "      <td>8998.0</td>\n",
       "      <td>NaN</td>\n",
       "      <td>NaN</td>\n",
       "      <td>NaN</td>\n",
       "      <td>6.929984</td>\n",
       "      <td>7.882655</td>\n",
       "      <td>0.0</td>\n",
       "      <td>2.0</td>\n",
       "      <td>4.0</td>\n",
       "      <td>9.0</td>\n",
       "      <td>77.0</td>\n",
       "    </tr>\n",
       "    <tr>\n",
       "      <th>dependents</th>\n",
       "      <td>8998.0</td>\n",
       "      <td>3.0</td>\n",
       "      <td>1.0</td>\n",
       "      <td>6164.0</td>\n",
       "      <td>NaN</td>\n",
       "      <td>NaN</td>\n",
       "      <td>NaN</td>\n",
       "      <td>NaN</td>\n",
       "      <td>NaN</td>\n",
       "      <td>NaN</td>\n",
       "      <td>NaN</td>\n",
       "    </tr>\n",
       "    <tr>\n",
       "      <th>per_net_purchase</th>\n",
       "      <td>8998.0</td>\n",
       "      <td>NaN</td>\n",
       "      <td>NaN</td>\n",
       "      <td>NaN</td>\n",
       "      <td>42.428984</td>\n",
       "      <td>18.495742</td>\n",
       "      <td>4.0</td>\n",
       "      <td>28.0</td>\n",
       "      <td>45.0</td>\n",
       "      <td>57.0</td>\n",
       "      <td>88.0</td>\n",
       "    </tr>\n",
       "    <tr>\n",
       "      <th>gender</th>\n",
       "      <td>8998</td>\n",
       "      <td>2</td>\n",
       "      <td>M</td>\n",
       "      <td>5784</td>\n",
       "      <td>NaN</td>\n",
       "      <td>NaN</td>\n",
       "      <td>NaN</td>\n",
       "      <td>NaN</td>\n",
       "      <td>NaN</td>\n",
       "      <td>NaN</td>\n",
       "      <td>NaN</td>\n",
       "    </tr>\n",
       "    <tr>\n",
       "      <th>education</th>\n",
       "      <td>8998</td>\n",
       "      <td>7</td>\n",
       "      <td>Graduation</td>\n",
       "      <td>4429</td>\n",
       "      <td>NaN</td>\n",
       "      <td>NaN</td>\n",
       "      <td>NaN</td>\n",
       "      <td>NaN</td>\n",
       "      <td>NaN</td>\n",
       "      <td>NaN</td>\n",
       "      <td>NaN</td>\n",
       "    </tr>\n",
       "    <tr>\n",
       "      <th>status</th>\n",
       "      <td>8998</td>\n",
       "      <td>7</td>\n",
       "      <td>Married</td>\n",
       "      <td>3273</td>\n",
       "      <td>NaN</td>\n",
       "      <td>NaN</td>\n",
       "      <td>NaN</td>\n",
       "      <td>NaN</td>\n",
       "      <td>NaN</td>\n",
       "      <td>NaN</td>\n",
       "      <td>NaN</td>\n",
       "    </tr>\n",
       "    <tr>\n",
       "      <th>description</th>\n",
       "      <td>8998</td>\n",
       "      <td>5</td>\n",
       "      <td>OK nice!</td>\n",
       "      <td>3434</td>\n",
       "      <td>NaN</td>\n",
       "      <td>NaN</td>\n",
       "      <td>NaN</td>\n",
       "      <td>NaN</td>\n",
       "      <td>NaN</td>\n",
       "      <td>NaN</td>\n",
       "      <td>NaN</td>\n",
       "    </tr>\n",
       "  </tbody>\n",
       "</table>\n",
       "</div>"
      ],
      "text/plain": [
       "                   count unique         top    freq        mean         std  \\\n",
       "age               8998.0    NaN         NaN     NaN  1966.05968   17.296552   \n",
       "income              8998   8525                  46         NaN         NaN   \n",
       "frq               8998.0    NaN         NaN     NaN   19.848077   10.903435   \n",
       "rcn               8998.0    NaN         NaN     NaN   62.469771   69.761802   \n",
       "mnt               8998.0    NaN         NaN     NaN  622.162814  646.768205   \n",
       "clothes           8998.0    NaN         NaN     NaN   50.446655   23.422249   \n",
       "kitchen           8998.0    NaN         NaN     NaN    7.039675    7.848139   \n",
       "small_appliances  8998.0    NaN         NaN     NaN   28.524116   12.586437   \n",
       "toys              8998.0    NaN         NaN     NaN    7.036897    7.924422   \n",
       "house_keeping     8998.0    NaN         NaN     NaN    6.929984    7.882655   \n",
       "dependents        8998.0    3.0         1.0  6164.0         NaN         NaN   \n",
       "per_net_purchase  8998.0    NaN         NaN     NaN   42.428984   18.495742   \n",
       "gender              8998      2           M    5784         NaN         NaN   \n",
       "education           8998      7  Graduation    4429         NaN         NaN   \n",
       "status              8998      7     Married    3273         NaN         NaN   \n",
       "description         8998      5    OK nice!    3434         NaN         NaN   \n",
       "\n",
       "                     min     25%     50%     75%     max  \n",
       "age               1936.0  1951.0  1966.0  1981.0  1996.0  \n",
       "income               NaN     NaN     NaN     NaN     NaN  \n",
       "frq                  3.0    10.0    17.0    28.0    59.0  \n",
       "rcn                  0.0    26.0    53.0    79.0   549.0  \n",
       "mnt                  6.0    63.0   383.0  1076.0  3052.0  \n",
       "clothes              1.0    33.0    51.0    69.0    99.0  \n",
       "kitchen              0.0     2.0     4.0    10.0    75.0  \n",
       "small_appliances     1.0    19.0    28.0    37.0    74.0  \n",
       "toys                 0.0     2.0     4.0    10.0    62.0  \n",
       "house_keeping        0.0     2.0     4.0     9.0    77.0  \n",
       "dependents           NaN     NaN     NaN     NaN     NaN  \n",
       "per_net_purchase     4.0    28.0    45.0    57.0    88.0  \n",
       "gender               NaN     NaN     NaN     NaN     NaN  \n",
       "education            NaN     NaN     NaN     NaN     NaN  \n",
       "status               NaN     NaN     NaN     NaN     NaN  \n",
       "description          NaN     NaN     NaN     NaN     NaN  "
      ]
     },
     "execution_count": 7,
     "metadata": {},
     "output_type": "execute_result"
    }
   ],
   "source": [
    "# descriptive statistics\n",
    "df.describe(include=\"all\").T  # try with all and without all"
   ]
  },
  {
   "cell_type": "markdown",
   "metadata": {},
   "source": [
    "## Problems:\n",
    "- Duplicates?\n",
    "- Data types?\n",
    "- Missing values?\n",
    "- Strange values?\n",
    "- Descriptive statistics?\n",
    "\n",
    "### Take a closer look and point out possible problems:\n",
    "\n",
    "(hint: a missing values in pandas is represented with a NaN value)"
   ]
  },
  {
   "cell_type": "code",
   "execution_count": 8,
   "metadata": {},
   "outputs": [
    {
     "data": {
      "text/plain": [
       "0       1946\n",
       "1       1936\n",
       "2       1990\n",
       "3       1955\n",
       "4       1955\n",
       "        ... \n",
       "8993    1960\n",
       "8994    1975\n",
       "8995    1986\n",
       "8996    1938\n",
       "8997    1994\n",
       "Name: age, Length: 8998, dtype: int64"
      ]
     },
     "execution_count": 8,
     "metadata": {},
     "output_type": "execute_result"
    }
   ],
   "source": [
    "# Use this cell to further explore the dataset\n",
    "df.age"
   ]
  },
  {
   "cell_type": "code",
<<<<<<< Updated upstream
   "execution_count": 9,
   "metadata": {},
   "outputs": [
    {
     "data": {
      "text/plain": [
       "age                   0\n",
       "income               46\n",
       "frq                   0\n",
       "rcn                   0\n",
       "mnt                   0\n",
       "clothes               0\n",
       "kitchen               0\n",
       "small_appliances      0\n",
       "toys                  0\n",
       "house_keeping         0\n",
       "dependents          282\n",
       "per_net_purchase      0\n",
       "gender                0\n",
       "education            47\n",
       "status              177\n",
       "description           0\n",
       "dtype: int64"
      ]
     },
     "execution_count": 9,
     "metadata": {},
     "output_type": "execute_result"
    }
   ],
=======
   "execution_count": null,
   "metadata": {},
   "outputs": [],
>>>>>>> Stashed changes
   "source": [
    "# replace \"\" by nans\n",
    "df.replace(\"\", np.nan, inplace=True)\n",
    "\n",
    "# count of missing values\n",
    "df.isna().sum()"
   ]
  },
  {
   "cell_type": "code",
   "execution_count": null,
   "metadata": {},
   "outputs": [],
   "source": [
    "# check dataset data types again\n",
    "df.dtypes"
   ]
  },
  {
   "cell_type": "code",
<<<<<<< Updated upstream
   "execution_count": 13,
   "metadata": {},
   "outputs": [
    {
     "data": {
      "text/plain": [
       "array(['M', 'F'], dtype=object)"
      ]
     },
     "execution_count": 13,
     "metadata": {},
     "output_type": "execute_result"
    }
   ],
   "source": [
    "# fix wrong dtypes\n",
    "df[\"dependents\"]=df[\"dependents\"].astype(\"boolean\")"
=======
   "execution_count": null,
   "metadata": {},
   "outputs": [],
   "source": [
    "# fix wrong dtypes\n",
    "# CODE HERE"
>>>>>>> Stashed changes
   ]
  },
  {
   "cell_type": "code",
<<<<<<< Updated upstream
   "execution_count": 14,
   "metadata": {},
   "outputs": [
    {
     "data": {
      "text/html": [
       "<div>\n",
       "<style scoped>\n",
       "    .dataframe tbody tr th:only-of-type {\n",
       "        vertical-align: middle;\n",
       "    }\n",
       "\n",
       "    .dataframe tbody tr th {\n",
       "        vertical-align: top;\n",
       "    }\n",
       "\n",
       "    .dataframe thead th {\n",
       "        text-align: right;\n",
       "    }\n",
       "</style>\n",
       "<table border=\"1\" class=\"dataframe\">\n",
       "  <thead>\n",
       "    <tr style=\"text-align: right;\">\n",
       "      <th></th>\n",
       "      <th>count</th>\n",
       "      <th>unique</th>\n",
       "      <th>top</th>\n",
       "      <th>freq</th>\n",
       "      <th>mean</th>\n",
       "      <th>std</th>\n",
       "      <th>min</th>\n",
       "      <th>25%</th>\n",
       "      <th>50%</th>\n",
       "      <th>75%</th>\n",
       "      <th>max</th>\n",
       "    </tr>\n",
       "  </thead>\n",
       "  <tbody>\n",
       "    <tr>\n",
       "      <th>age</th>\n",
       "      <td>8998.0</td>\n",
       "      <td>NaN</td>\n",
       "      <td>NaN</td>\n",
       "      <td>NaN</td>\n",
       "      <td>1966.05968</td>\n",
       "      <td>17.296552</td>\n",
       "      <td>1936.0</td>\n",
       "      <td>1951.0</td>\n",
       "      <td>1966.0</td>\n",
       "      <td>1981.0</td>\n",
       "      <td>1996.0</td>\n",
       "    </tr>\n",
       "    <tr>\n",
       "      <th>income</th>\n",
       "      <td>8952.0</td>\n",
       "      <td>NaN</td>\n",
       "      <td>NaN</td>\n",
       "      <td>NaN</td>\n",
       "      <td>69963.550827</td>\n",
       "      <td>27591.556226</td>\n",
       "      <td>10000.0</td>\n",
       "      <td>47741.0</td>\n",
       "      <td>70030.5</td>\n",
       "      <td>92218.0</td>\n",
       "      <td>140628.0</td>\n",
       "    </tr>\n",
       "    <tr>\n",
       "      <th>frq</th>\n",
       "      <td>8998.0</td>\n",
       "      <td>NaN</td>\n",
       "      <td>NaN</td>\n",
       "      <td>NaN</td>\n",
       "      <td>19.848077</td>\n",
       "      <td>10.903435</td>\n",
       "      <td>3.0</td>\n",
       "      <td>10.0</td>\n",
       "      <td>17.0</td>\n",
       "      <td>28.0</td>\n",
       "      <td>59.0</td>\n",
       "    </tr>\n",
       "    <tr>\n",
       "      <th>rcn</th>\n",
       "      <td>8998.0</td>\n",
       "      <td>NaN</td>\n",
       "      <td>NaN</td>\n",
       "      <td>NaN</td>\n",
       "      <td>62.469771</td>\n",
       "      <td>69.761802</td>\n",
       "      <td>0.0</td>\n",
       "      <td>26.0</td>\n",
       "      <td>53.0</td>\n",
       "      <td>79.0</td>\n",
       "      <td>549.0</td>\n",
       "    </tr>\n",
       "    <tr>\n",
       "      <th>mnt</th>\n",
       "      <td>8998.0</td>\n",
       "      <td>NaN</td>\n",
       "      <td>NaN</td>\n",
       "      <td>NaN</td>\n",
       "      <td>622.162814</td>\n",
       "      <td>646.768205</td>\n",
       "      <td>6.0</td>\n",
       "      <td>63.0</td>\n",
       "      <td>383.0</td>\n",
       "      <td>1076.0</td>\n",
       "      <td>3052.0</td>\n",
       "    </tr>\n",
       "    <tr>\n",
       "      <th>clothes</th>\n",
       "      <td>8998.0</td>\n",
       "      <td>NaN</td>\n",
       "      <td>NaN</td>\n",
       "      <td>NaN</td>\n",
       "      <td>50.446655</td>\n",
       "      <td>23.422249</td>\n",
       "      <td>1.0</td>\n",
       "      <td>33.0</td>\n",
       "      <td>51.0</td>\n",
       "      <td>69.0</td>\n",
       "      <td>99.0</td>\n",
       "    </tr>\n",
       "    <tr>\n",
       "      <th>kitchen</th>\n",
       "      <td>8998.0</td>\n",
       "      <td>NaN</td>\n",
       "      <td>NaN</td>\n",
       "      <td>NaN</td>\n",
       "      <td>7.039675</td>\n",
       "      <td>7.848139</td>\n",
       "      <td>0.0</td>\n",
       "      <td>2.0</td>\n",
       "      <td>4.0</td>\n",
       "      <td>10.0</td>\n",
       "      <td>75.0</td>\n",
       "    </tr>\n",
       "    <tr>\n",
       "      <th>small_appliances</th>\n",
       "      <td>8998.0</td>\n",
       "      <td>NaN</td>\n",
       "      <td>NaN</td>\n",
       "      <td>NaN</td>\n",
       "      <td>28.524116</td>\n",
       "      <td>12.586437</td>\n",
       "      <td>1.0</td>\n",
       "      <td>19.0</td>\n",
       "      <td>28.0</td>\n",
       "      <td>37.0</td>\n",
       "      <td>74.0</td>\n",
       "    </tr>\n",
       "    <tr>\n",
       "      <th>toys</th>\n",
       "      <td>8998.0</td>\n",
       "      <td>NaN</td>\n",
       "      <td>NaN</td>\n",
       "      <td>NaN</td>\n",
       "      <td>7.036897</td>\n",
       "      <td>7.924422</td>\n",
       "      <td>0.0</td>\n",
       "      <td>2.0</td>\n",
       "      <td>4.0</td>\n",
       "      <td>10.0</td>\n",
       "      <td>62.0</td>\n",
       "    </tr>\n",
       "    <tr>\n",
       "      <th>house_keeping</th>\n",
       "      <td>8998.0</td>\n",
       "      <td>NaN</td>\n",
       "      <td>NaN</td>\n",
       "      <td>NaN</td>\n",
       "      <td>6.929984</td>\n",
       "      <td>7.882655</td>\n",
       "      <td>0.0</td>\n",
       "      <td>2.0</td>\n",
       "      <td>4.0</td>\n",
       "      <td>9.0</td>\n",
       "      <td>77.0</td>\n",
       "    </tr>\n",
       "    <tr>\n",
       "      <th>dependents</th>\n",
       "      <td>8716</td>\n",
       "      <td>2</td>\n",
       "      <td>True</td>\n",
       "      <td>6164</td>\n",
       "      <td>NaN</td>\n",
       "      <td>NaN</td>\n",
       "      <td>NaN</td>\n",
       "      <td>NaN</td>\n",
       "      <td>NaN</td>\n",
       "      <td>NaN</td>\n",
       "      <td>NaN</td>\n",
       "    </tr>\n",
       "    <tr>\n",
       "      <th>per_net_purchase</th>\n",
       "      <td>8998.0</td>\n",
       "      <td>NaN</td>\n",
       "      <td>NaN</td>\n",
       "      <td>NaN</td>\n",
       "      <td>42.428984</td>\n",
       "      <td>18.495742</td>\n",
       "      <td>4.0</td>\n",
       "      <td>28.0</td>\n",
       "      <td>45.0</td>\n",
       "      <td>57.0</td>\n",
       "      <td>88.0</td>\n",
       "    </tr>\n",
       "    <tr>\n",
       "      <th>gender</th>\n",
       "      <td>8998</td>\n",
       "      <td>2</td>\n",
       "      <td>M</td>\n",
       "      <td>5784</td>\n",
       "      <td>NaN</td>\n",
       "      <td>NaN</td>\n",
       "      <td>NaN</td>\n",
       "      <td>NaN</td>\n",
       "      <td>NaN</td>\n",
       "      <td>NaN</td>\n",
       "      <td>NaN</td>\n",
       "    </tr>\n",
       "    <tr>\n",
       "      <th>education</th>\n",
       "      <td>8951</td>\n",
       "      <td>6</td>\n",
       "      <td>Graduation</td>\n",
       "      <td>4429</td>\n",
       "      <td>NaN</td>\n",
       "      <td>NaN</td>\n",
       "      <td>NaN</td>\n",
       "      <td>NaN</td>\n",
       "      <td>NaN</td>\n",
       "      <td>NaN</td>\n",
       "      <td>NaN</td>\n",
       "    </tr>\n",
       "    <tr>\n",
       "      <th>status</th>\n",
       "      <td>8821</td>\n",
       "      <td>6</td>\n",
       "      <td>Married</td>\n",
       "      <td>3273</td>\n",
       "      <td>NaN</td>\n",
       "      <td>NaN</td>\n",
       "      <td>NaN</td>\n",
       "      <td>NaN</td>\n",
       "      <td>NaN</td>\n",
       "      <td>NaN</td>\n",
       "      <td>NaN</td>\n",
       "    </tr>\n",
       "    <tr>\n",
       "      <th>description</th>\n",
       "      <td>8998</td>\n",
       "      <td>5</td>\n",
       "      <td>OK nice!</td>\n",
       "      <td>3434</td>\n",
       "      <td>NaN</td>\n",
       "      <td>NaN</td>\n",
       "      <td>NaN</td>\n",
       "      <td>NaN</td>\n",
       "      <td>NaN</td>\n",
       "      <td>NaN</td>\n",
       "      <td>NaN</td>\n",
       "    </tr>\n",
       "  </tbody>\n",
       "</table>\n",
       "</div>"
      ],
      "text/plain": [
       "                   count unique         top  freq          mean           std  \\\n",
       "age               8998.0    NaN         NaN   NaN    1966.05968     17.296552   \n",
       "income            8952.0    NaN         NaN   NaN  69963.550827  27591.556226   \n",
       "frq               8998.0    NaN         NaN   NaN     19.848077     10.903435   \n",
       "rcn               8998.0    NaN         NaN   NaN     62.469771     69.761802   \n",
       "mnt               8998.0    NaN         NaN   NaN    622.162814    646.768205   \n",
       "clothes           8998.0    NaN         NaN   NaN     50.446655     23.422249   \n",
       "kitchen           8998.0    NaN         NaN   NaN      7.039675      7.848139   \n",
       "small_appliances  8998.0    NaN         NaN   NaN     28.524116     12.586437   \n",
       "toys              8998.0    NaN         NaN   NaN      7.036897      7.924422   \n",
       "house_keeping     8998.0    NaN         NaN   NaN      6.929984      7.882655   \n",
       "dependents          8716      2        True  6164           NaN           NaN   \n",
       "per_net_purchase  8998.0    NaN         NaN   NaN     42.428984     18.495742   \n",
       "gender              8998      2           M  5784           NaN           NaN   \n",
       "education           8951      6  Graduation  4429           NaN           NaN   \n",
       "status              8821      6     Married  3273           NaN           NaN   \n",
       "description         8998      5    OK nice!  3434           NaN           NaN   \n",
       "\n",
       "                      min      25%      50%      75%       max  \n",
       "age                1936.0   1951.0   1966.0   1981.0    1996.0  \n",
       "income            10000.0  47741.0  70030.5  92218.0  140628.0  \n",
       "frq                   3.0     10.0     17.0     28.0      59.0  \n",
       "rcn                   0.0     26.0     53.0     79.0     549.0  \n",
       "mnt                   6.0     63.0    383.0   1076.0    3052.0  \n",
       "clothes               1.0     33.0     51.0     69.0      99.0  \n",
       "kitchen               0.0      2.0      4.0     10.0      75.0  \n",
       "small_appliances      1.0     19.0     28.0     37.0      74.0  \n",
       "toys                  0.0      2.0      4.0     10.0      62.0  \n",
       "house_keeping         0.0      2.0      4.0      9.0      77.0  \n",
       "dependents            NaN      NaN      NaN      NaN       NaN  \n",
       "per_net_purchase      4.0     28.0     45.0     57.0      88.0  \n",
       "gender                NaN      NaN      NaN      NaN       NaN  \n",
       "education             NaN      NaN      NaN      NaN       NaN  \n",
       "status                NaN      NaN      NaN      NaN       NaN  \n",
       "description           NaN      NaN      NaN      NaN       NaN  "
      ]
     },
     "execution_count": 14,
     "metadata": {},
     "output_type": "execute_result"
    }
   ],
=======
   "execution_count": null,
   "metadata": {},
   "outputs": [],
>>>>>>> Stashed changes
   "source": [
    "# check descriptive statistics again\n",
    "df.describe(include=\"all\").T"
   ]
<<<<<<< Updated upstream
  },
  {
   "cell_type": "code",
   "execution_count": 15,
   "metadata": {},
   "outputs": [
    {
     "data": {
      "text/plain": [
       "<AxesSubplot:ylabel='Frequency'>"
      ]
     },
     "execution_count": 15,
     "metadata": {},
     "output_type": "execute_result"
    },
    {
     "data": {
      "image/png": "iVBORw0KGgoAAAANSUhEUgAAAyAAAAH2CAYAAACIiOhzAAAAOXRFWHRTb2Z0d2FyZQBNYXRwbG90bGliIHZlcnNpb24zLjMuNCwgaHR0cHM6Ly9tYXRwbG90bGliLm9yZy8QVMy6AAAACXBIWXMAABYlAAAWJQFJUiTwAABMGUlEQVR4nO3de1hVZd7/8c8GRNig4AlDM89QanggEPtlOo5lUxFOJTQeUsuaTjqjmVbiGPpkWVaEdlI7qXlIHtNhMnF0TH2UQUNNJ5VCTa08oyAgIrB+f3TtPdHeKOZicXq/rqsLW/d3r32v71Xu/WGtey2bYRiGAAAAAMACHlU9AQAAAAB1BwEEAAAAgGUIIAAAAAAsQwABAAAAYBkCCAAAAADLEEAAAAAAWIYAAgAAAMAyBBAAAAAAliGAAAAAALAMAQQAAACAZQggAAAAACxDAAEAAABgGQIIAAAAAMsQQAAAAABYxquqJwBzlJYaKi4uqepp1Aje3j//Z19UVFzFM6lb6Lv16Ln16Ln16Ln16HnVqA599/LylIeH7er3Y8JcUA0UF5coJ+d8VU+jRmjWrIEk0S+L0Xfr0XPr0XPr0XPr0fOqUR36HhDg6wxCV4NLsAAAAABYhgACAAAAwDIEEAAAAACWIYAAAAAAsAwBBAAAAIBlCCAAAAAALEMAAQAAAGAZAggAAAAAyxBAAAAAAFiGAAIAAADAMgQQAAAAAJYhgAAAAACwDAEEAAAAgGUIIAAAAAAsQwABAAAAYBkCCAAAAADLeFX1BAAAsFqzZg1q9P6vxsmT56p6CgDqOM6AAAAAALAMZ0AA4Beq82+uf6uKHlNd/M149NMrq3oKlkl5LaaqpwAAkjgDAgAAAMBCnAEBADfq4m/Ga+PZHwBA9cMZEAAAAACW4QwIAEBS3TzrAwCwHmdAAAAAAFiGAAIAAADAMgQQAAAAAJYhgAAAAACwDAEEAAAAgGUIIAAAAAAsQwABAAAAYBkCCAAAAADLEEAAAAAAWIYAAgAAAMAyBBAAAAAAliGAAAAAALAMAQQAAACAZQggAAAAACxDAAEAAABgGQIIAAAAAMsQQAAAAABYhgACAAAAwDJeVT0BAABgnWbNGlT1FCrFpY7r5MlzFs4EwOVwBgQAAACAZTgDAgBAHRL99MqqnoJlUl6LqeopAHCDMyAAAAAALEMAAQAAAGAZAggAAAAAyxBAAAAAAFiGAAIAAADAMrUugCxfvlyhoaH66quv3I5v2LBBDz/8sCIjI9WlSxf97ne/09/+9jcdO3bMbX1ubq5effVVDRgwQGFhYerXr59efvll5eXlua0vKSnRkiVLNHDgQHXv3l29evXS2LFjdfDgQdOOEQAAAKipalUA2bFjh6ZNm1bu+Jw5c/Too49qy5Ytatu2rW699VZJ0tKlS/XHP/5R+/fvL1Ofl5enoUOHat68ebLZbOrbt69sNps+/PBDxcXF6dw51wcbxcfHa8qUKTp27JhuueUWtWzZUqtWrdK9996rPXv2mHvAAAAAQA1TawLImjVr9PDDD6ugoMDteFZWlhITE2W327Vo0SItXbpUb7/9ttasWaPBgwcrOztbzz//fJnXJCYmKjMzU7GxsVq1apWSkpKUmpqqmJgY5/5+PYfly5erc+fO+uc//6lZs2YpOTlZCQkJKigo0LPPPivDMCqrBQAAAEC1V+MDyLFjxzRhwgSNHj1apaWlatq0qdu6lStXqqSkRCNHjlT37t2d2+vVq6fnn39ejRs31s6dO/Xjjz9K+vnSq2XLlsnf318TJ06Uh8fPrfLy8tKUKVMUEBCg5OTkMoHngw8+kCQ9++yzatCggXP7Aw88oJtvvlmZmZlKT083vQcAAABATVHjA0hiYqJWrlypLl26aOnSpWrXrp3bunr16ik0NFQRERFux6699lpJ0okTJyRJ27ZtU2FhoaKiouTv71+m3s/PT7169VJhYaG2bdsm6efAsnPnTgUGBuqmm25yeY/+/ftLkjZu3PjbDxYAAACo4byqegJXq127dpoxY4buuece51kKd8aMGaMxY8a4HSsoKFBWVpYk6ZprrpEk57937Nix3PeVpMzMTPXp00f79++XYRhq376923k46r/99tsKHhkAAABQ+9T4APLoo49e9T7mzp2rgoIC3XjjjQoODpYknTx5UpLUrFkzt69xbD99+nSF6oOCgsrUAzVFs2YNLl9UhfsDAAA1S40PIFdrw4YNeu+99+Th4aFnnnnGud2xtsPX19ft63x8fMrUXa6+fv36ZerM5u3txRe7K0S/AKBu4O/7ykFfq0Zt6HudDiBffvmlxowZo5KSEj399NPq2bOnc8xxGZXNZnP7WsfdrBw/r7QeqGmin15Z1VOwRMprMVU9BQAAarU6G0CSk5M1ZcoUFRcX68knn3S5lMtut0uSCgsL3b7+woULkv57xuNy9UVFRWXqzVZUVKycnPOVsu/axvGbg5MnXZ/jAle14TctAOo2/r43F5+jVaM69D0gwFfe3lcfH+pkAElMTNQ777wjm82m5557TiNGjHCpcazZOHXqlNt9/HrNx+XqHXfXKm+NCAAAAFAX1KkAYhiG4uPjlZycLG9vb82YMUN33nmn21rH3a8cd8P6NcdT00NDQyVJHTp0kIeHh8vT1B0OHDggSQoJCbmqYwAAAABqshr/HJAr8fLLLys5OVn+/v56//33yw0fkhQRESEfHx+lpaW5LBzPz89XWlqa7Ha7wsPDJcn559OnT2v79u0u+1u7dq0kqU+fPiYeEQAAAFCz1JkAsnHjRn300Ufy8vLSe++9p8jIyEvW2+12DRw4UDk5OUpISFBxcbEkqbi4WFOnTlVubq7i4uLKPKRw8ODBkqSEhARlZ2c7ty9dulRbtmxR586dyyx0BwAAAOqaOnMJ1uzZsyVJTZo00ZIlS7RkyRK3dY8//rjat28vSRo7dqzS09O1YsUKZWRkqFOnTtqzZ4+OHDmiTp06afTo0WVee+edd2rNmjX64osvdMcddygyMlLHjx/Xrl271LBhQ82YMaNyDxIAAACo5upEADl//rx2794tSTp+/LhSUlLKrR00aJAzgAQGBmrJkiWaPXu21q5dq/Xr1ys4OFijRo3SY489Jj8/P5fXz5w5U926dVNycrI2bNigRo0a6a677tKYMWPUpk2bSjk+AAAAoKaodQFkwYIFLtt8fX21d+/e37S/wMBAxcfHKz4+vkL1Xl5eGjFihNs7awEAAAB1XZ1ZAwIAAACg6hFAAAAAAFiGAAIAAADAMgQQAAAAAJYhgAAAAACwDAEEAAAAgGUIIAAAAAAsQwABAAAAYBkCCAAAAADLEEAAAAAAWIYAAgAAAMAyBBAAAAAAliGAAAAAALAMAQQAAACAZQggAAAAACxDAAEAAABgGQIIAAAAAMsQQAAAAABYhgACAAAAwDIEEAAAAACWIYAAAAAAsAwBBAAAAIBlCCAAAAAALEMAAQAAAGAZAggAAAAAyxBAAAAAAFiGAAIAAADAMgQQAAAAAJYhgAAAAACwDAEEAAAAgGUIIAAAAAAsQwABAAAAYBkCCAAAAADLEEAAAAAAWIYAAgAAAMAyBBAAAAAAliGAAAAAALAMAQQAAACAZQggAAAAACxDAAEAAABgGQIIAAAAAMsQQAAAAABYhgACAAAAwDIEEAAAAACWIYAAAAAAsAwBBAAAAIBlal0AWb58uUJDQ/XVV1+5HT948KDGjRunPn36qGvXroqOjtbChQtVWlrqtj43N1evvvqqBgwYoLCwMPXr108vv/yy8vLy3NaXlJRoyZIlGjhwoLp3765evXpp7NixOnjwoGnHCAAAANRUtSqA7NixQ9OmTSt3fN++fbr//vv1+eefq0WLFurdu7eOHTumadOmacKECS71eXl5Gjp0qObNmyebzaa+ffvKZrPpww8/VFxcnM6dO+fymvj4eE2ZMkXHjh3TLbfcopYtW2rVqlW69957tWfPHlOPFwAAAKhpak0AWbNmjR5++GEVFBS4HTcMQxMmTFBeXp5eeeUVLV68WLNnz1ZqaqpCQ0OVkpKi1NTUMq9JTExUZmamYmNjtWrVKiUlJSk1NVUxMTHKyspSYmKiyxyWL1+uzp0765///KdmzZql5ORkJSQkqKCgQM8++6wMw6isFgAAAADVXo0PIMeOHdOECRM0evRolZaWqmnTpm7rNm/erMzMTEVGRiomJsa5vXHjxpoyZYokacGCBc7tubm5WrZsmfz9/TVx4kR5ePzcKi8vL02ZMkUBAQFKTk4uE3g++OADSdKzzz6rBg0aOLc/8MADuvnmm5WZman09HTzDh4AAACoYWp8AElMTNTKlSvVpUsXLV26VO3atXNbt2nTJklS//79XcbCw8PVpEkTZWRkONd2bNu2TYWFhYqKipK/v3+Zej8/P/Xq1UuFhYXatm2bpJ8Dy86dOxUYGKibbrrJ5T0c77tx48bffrAAAABADVfjA0i7du00Y8YMLVu2TKGhoeXWZWVlSZJCQkLcjrdt21alpaXav39/mfqOHTuW+76SlJmZKUnav3+/DMNQ+/btnWdL3NV/++23FTksAAAAoFbyquoJXK1HH320QnUnTpyQJDVr1sztuGP7qVOnJEknT56sUP3p06crVB8UFFSm3mze3l5q1qzB5QvhRL8AoG7g7/vKQV+rRm3oe40/A1JR58+flyT5+Pi4HXdsd6zpcPz09fU1pb5+/fpl6gAAAIC6qMafAakox2VRNpvN7bjj7lSOn5Vdb7aiomLl5JyvlH3XNo7fHJw86XobZbiqDb9pAVC38fe9ufgcrRrVoe8BAb7y9r76+FBnzoDY7XZJUmFhodvxCxculKmraL3jjMfl6ouKisrUAwAAAHVRnQkgjjUYjjUev/brNRxm119uDQoAAABQF9SZAOK4m5Xj7la/ZBiGDhw4IE9PT7Vv3/6y9ZKcd8ty3HmrQ4cO8vDwcG7/tQMHDkgq/y5cAAAAQF1QZwJI7969JUnr1q1zGdu+fbuys7MVHh7ufOZHRESEfHx8lJaW5rJwPD8/X2lpabLb7QoPD5ck559Pnz6t7du3u7zH2rVrJUl9+vQx9bgAAACAmqTOBJDIyEh17NhRmzdv1qeffurcnp2drYSEBEnSyJEjndvtdrsGDhyonJwcJSQkqLi4WJJUXFysqVOnKjc3V3FxcWUeUjh48GBJUkJCgrKzs53bly5dqi1btqhz587q2bNnpR4nAAAAUJ3VqbtgTZ8+XcOHD9fkyZOVnJysoKAgbd26VTk5OYqNjVW/fv3KvGbs2LFKT0/XihUrlJGRoU6dOmnPnj06cuSIOnXqpNGjR5epv/POO7VmzRp98cUXuuOOOxQZGanjx49r165datiwoWbMmGHlIQMAAADVTp0JIJIUFhamZcuWKSkpSenp6fruu+/UunVrjRs3ToMGDXKpDwwM1JIlSzR79mytXbtW69evV3BwsEaNGqXHHntMfn5+Lq+ZOXOmunXrpuTkZG3YsEGNGjXSXXfdpTFjxqhNmzYWHCUAAPilung7cW6Ri+qs1gWQBQsWXHK8Q4cOSkpKqvD+AgMDFR8fr/j4+ArVe3l5acSIERoxYkSF3wMAAACoK2pdAAEAAPil6KdXVvUULJPyWkxVTwG4rDqzCB0AAABA1SOAAAAAALAMAQQAAACAZQggAAAAACxDAAEAAABgGQIIAAAAAMsQQAAAAABYhgACAAAAwDIEEAAAAACWIYAAAAAAsAwBBAAAAIBlCCAAAAAALEMAAQAAAGAZAggAAAAAyxBAAAAAAFiGAAIAAADAMgQQAAAAAJYhgAAAAACwDAEEAAAAgGUIIAAAAAAsQwABAAAAYBkCCAAAAADLeFX1BICapFmzBlU9BQAAgBqNMyAAAAAALMMZEOA3iH56ZVVPwTIpr8VU9RQAAEAtwhkQAAAAAJYhgAAAAACwDAEEAAAAgGUIIAAAAAAsQwABAAAAYBkCCAAAAADLmB5Ajh07ZvYuAQAAANQSpgeQfv36acSIEfrss8+Un59v9u4BAAAA1GCmB5D69evr3//+t55//nn9v//3//T0009r48aNKi0tNfutAAAAANQwpj8JPS0tTf/85z+VkpKiLVu26PPPP9eqVavUuHFj3X333brnnnvUuXNns98WAAAAQA1gegDx8fFRdHS0oqOjlZ2drVWrVunvf/+7du3apY8//ljz589Xu3btFBMTo+joaAUHB5s9BQAAAADVVKXeBatx48YaOnSoPv30U61Zs0ajR49W586ddeDAAb3xxhv6/e9/r+HDh+uzzz5TQUFBZU4FAAAAQDVg2W14r7vuOj355JOaM2eOxo4dKx8fH5WWlio9PV3PP/+8evfurenTp+vs2bNWTQkAAACAxUy/BMud7OxsffHFF1q1apV27typ0tJSGYahFi1aKDo6WsePH9eaNWu0YMECrVq1Sh999JE6dOhgxdQAAAAAWKjSAkheXp7Wrl2rlJQUpaenq6SkRIZhyM/PT7fffrsGDhyonj17Ouvj4+M1duxYbdq0SQkJCVqwYEFlTQ0AAABAFTE9gKxZs0b/+Mc/tGHDBhUVFckwDHl6eurmm2/WwIEDddttt8nHx8fldf7+/nr22We1adMm7d692+xpAQAAAKgGTA8gY8aMcf65Y8eOGjhwoO655x41a9aswvto2rSp2dMCAAAAUA2YHkCaNGmiu+++WwMHDtQNN9xwRa9t3ry5Pv/8c7Vo0cLsaQEAAACoBkwPIBs3bpSnp2e549nZ2WrUqJFsNpvLmL+/v/z9/c2eEgAAAIBqwvTb8Hp6eqqkpETvvvuu7rrrLhUVFZUZf+GFF3TzzTfrnXfeUXFxsdlvX2ErV65UbGysunXrprCwMMXExOjjjz9WSUmJS+3Bgwc1btw49enTR127dlV0dLQWLlyo0tJSt/vOzc3Vq6++qgEDBigsLEz9+vXTyy+/rLy8vMo+LAAAAKBaMz2AFBUV6ZFHHtGbb76pAwcO6ODBg2XGT5w4oTNnzigpKUlPPvmkDMMwewqX9corr2jChAnau3evevTooZ49e+rw4cOaPn26xowZU2ZO+/bt0/333++8NKx37946duyYpk2bpgkTJrjsOy8vT0OHDtW8efNks9nUt29f2Ww2ffjhh4qLi9O5c+esPFQAAACgWjE9gHz00UfasmWLmjZtqsTERLVv377M+CeffKK5c+cqODhYGzdu1JIlS8yewiVlZmbqgw8+UOPGjfX3v/9dH3zwgebOnavVq1erZcuWWrt2rdasWSNJMgxDEyZMUF5enl555RUtXrxYs2fPVmpqqkJDQ5WSkqLU1NQy+09MTFRmZqZiY2O1atUqJSUlKTU1VTExMcrKylJiYqKlxwsAAABUJ6YHkJSUFHl5eemDDz7QgAED5OVVdpmJp6enevfurbfffls2m03/+7//a/YULmnLli0yDEP33HOP2rZt69zevHlzDR48WJK0bds2SdLmzZuVmZmpyMhIxcTEOGsbN26sKVOmSFKZ55Xk5uZq2bJl8vf318SJE+Xh8XN7vby8NGXKFAUEBCg5OVkFBQWVfpwAAABAdWR6ADl8+LDatm2rjh07XrLu+uuvV+vWrZWVlWX2FC7Jsfj9+PHjLmNnzpyRJAUGBkqSNm3aJEnq37+/S214eLiaNGmijIwM59qObdu2qbCwUFFRUS6L6f38/NSrVy8VFhY6Aw4AAABQ15geQHx8fMpdnP1r9erVc3s3rMrUu3dv2Ww2rV69WnPmzFF2drZyc3OVnJys+fPnKyAgQPfdd58kOcNRSEiI2321bdtWpaWl2r9/f5n68sJXu3btJP18GRgAAABQF5keQNq0aaMDBw44v5SX5/Dhw8rKynJ+KbdK+/btNW3aNPn4+Oi1115Tr169FBERoUmTJqlz585aunSpgoODJf28YF5SuQ9RdGw/deqUJOnkyZMVqj99+rR5BwQAAADUIKY/B+See+7R119/rdGjR2vWrFkui9Cln8PHU089JcMwFB0dbfYULqtHjx7q1auX/v3vfyssLEweHh76+uuvtXv3bi1atEjPP/+8bDabzp8/L+nnszruOLY71nQ4fvr6+lao3kze3l5q1qyB6futzegXAKC2suIzjs/RqlEb+m56AImLi9M//vEP7dixQ9HR0QoLC1NISIjsdrsKCgq0f/9+7dy5UyUlJbrxxhudC7+tsnPnTj300ENq2bKlUlJSdO2110r6eU3IU089pfnz58vf319/+ctfnIvIy7tMzHG7XsfPK60HAAAA6hrTA4iXl5fee+89TZ8+XStXrtTOnTu1c+dO2Ww25xdvm82mP/zhD0pISJC3t7fZU7ik6dOnKz8/Xy+++KIzfEg/3wXr9ddf1x133KGPPvpIjz76qOx2uySpsLDQ7b4uXLggSc66itaXd4bkahQVFSsn57zp+62NHL85OHnyyp/JUht+6wAAqP1+y2dcRV3N5yh+u+rQ94AAX3l7X318MD2ASFLDhg318ssva+zYsdq4caMOHz6ss2fPysfHR23atNEtt9yi1q1bV8ZbX1JhYaF27dqlBg0aKCwszGW8VatWatu2rb777jsdOnRIQUFB2rt3r06dOuX2UrJfr/kICgqS9N81IZerBwAAAOqaSgkgDs2bN9egQYMq8y2uyLlz52QYhjw9PcutcYxdvHhRHTt21IYNG5SVlaWePXuWqTMMQwcOHJCnp6cznDjuflXerYUdC/NDQ0Ov+lgAAACAmsj0u2BVZ02aNFFgYKDOnj2rXbt2uYwfP35c+/fvV7169dSuXTv17t1bkrRu3TqX2u3btys7O1vh4eHOZ35ERETIx8dHaWlpLgvN8/PzlZaWJrvdrvDw8Eo4OgAAAKD6q5QzID/88IM+/PBD7dixQ/n5+SopKSl34bXNZtPatWsrYxouPDw8dP/992vevHmaNGmS5s2bp+bNm0uSsrOzNX78eF28eFEPPPCA/Pz8FBkZqY4dO2rz5s369NNPFRsb66xNSEiQJI0cOdK5f7vdroEDB2rJkiVKSEjQiy++KC8vLxUXF2vq1KnKzc3VyJEjXR5SCAAAANQVpgeQ77//XnFxccrNza3Q3Z6sfhDhmDFjtGvXLm3dulW33XabIiIiZLPZ9PXXXys3N1fdunXTxIkTJf0cWKZPn67hw4dr8uTJSk5OVlBQkLZu3aqcnBzFxsaqX79+ZfY/duxYpaena8WKFcrIyFCnTp20Z88eHTlyRJ06ddLo0aMtPV4AAACgOjE9gLz11lvKyclR06ZNNWTIELVt27bc52hUhfr16+uDDz7QokWLtHLlSmVkZKi0tFRt2rTRI488ohEjRpS5M1dYWJiWLVumpKQkpaen67vvvlPr1q01btw4t+tbAgMDtWTJEs2ePVtr167V+vXrFRwcrFGjRumxxx6Tn5+flYcLAAAAVCumB5C0tDR5eXlpwYIFatu2rdm7N0W9evU0fPhwDR8+vEL1HTp0UFJSUoX3HxgYqPj4eMXHx//WKQIAAAC1kumL0HNzcxUSElJtwwcAAACAqmN6ALnmmmt05swZs3cLAAAAoBYwPYDccccdOnbsmNLT083eNQAAAIAazvQA8vjjj+v666/X+PHjtXr1auXn55v9FgAAAABqKNMXoY8dO1b+/v7au3evxo4dK5vNJrvdrnr16rmtt9ls2rJli9nTAAAAAFANmR5AvvzyS+efDcOQYRjKy8srt97q54AAAAAAqDqmB5D58+ebvUsAAAAAtYTpASQyMtLsXQIAAACoJUxfhF4eFqMDAAAAqLQAcuzYMb388su688471blzZ0VEREiSjh8/rqFDh+pf//pXZb01AAAAgGrK9EuwJGnTpk0aN26c8vLyZBiGpP8uNv/hhx/01VdfKSMjQ08++aSeeuqpypgCAAAAgGrI9DMghw8f1pgxY3Tu3Dndcccdmj17tjp16uQcb9Omjf74xz/KMAy99dZbZe6aBQAAAKB2Mz2AvPfeezp//rz++te/6o033lD//v3l4+PjHG/SpIleeukljR8/XoZhaNGiRWZPAQAAAEA1ZXoA2bx5swICAvTII49csm7kyJEKDAzUrl27zJ4CAAAAgGrK9ABy+vRptWrVSp6enpes8/T01LXXXnvJhxQCAAAAqF1MDyANGzbUTz/9VKHa48ePKzAw0OwpAAAAAKimTA8g3bp105kzZ7R69epL1q1atUonT55U165dzZ4CAAAAgGrK9AAyYsQIGYahyZMna8WKFbpw4UKZ8eLiYiUnJ2vSpEmy2WwaMmSI2VMAAAAAUE2Z/hyQiIgIjRkzRklJSXruueecQUOS7rnnHh05ckSFhYUyDEMjR47UzTffbPYUAAAAAFRTlfIgwieeeEIdOnTQm2++qf379zu3f/vtt5Kkli1b6oknntB9991XGW8PAAAAoJqqlAAiSbfffrtuv/12HTlyRFlZWcrLy5Ovr6/atGmjDh06VNbbAgAAAKjGKi2AOLRq1UqtWrWq7LcBAAAAUAOYvggdAAAAAMpj+hmQG2644YrqbTab9uzZY/Y0AAAAAFRDpgcQwzAqXNugQQOz3x4AAABANWZ6AElJSSl37Pz58zp58qTWrVunFStW6L777tOzzz5r9hQAAAAAVFOmB5COHTtetub3v/+9rr/+er300kvq0qWL7r77brOnAQAAAKAaqrJF6EOGDFGjRo20YMGCqpoCAAAAAItVWQDx9PRUcHCw8+GEAAAAAGq/KgsgeXl5+v7771WvXr2qmgIAAAAAi5m+BuT8+fPljhmGoaKiIh08eFCvv/66CgoK1Lt3b7OnAAAAAKCaMj2A9OjRo0J1hmHI09NTjz76qNlTAAAAAFBNVdlzQEJDQzVmzBjddNNNZk8BAAAAQDVlegBZt27dpd/Qy0sNGzaUr6+v2W8NAAAAoJozPYC0bNnS7F0CAAAAqCWq7C5YAAAAAOoe08+A/OUvf7nqfdhsNiUmJl79ZAAAAABUK6YHkNTUVEk/hwjJ/aL0S439chwAAABA7WJ6AJk7d642btyoBQsWKCAgQNHR0erSpYsCAwNVWFiorKwspaSk6NChQwoNDdVtt91m9hQAAAAAVFOmBxBfX18tXrxYN910k2bPnq3AwECXmj//+c969tlntWrVKo0bN059+vQxexoAAAAAqiHTF6HPmjVLnp6eevPNN92GD0mqV6+epk2bJrvdrnfffdfsKQAAAACopkwPILt371bHjh3VpEmTS9bZ7Xa1a9dOe/fuNXsKAAAAAKop0wOIj4+PTpw4cdm64uJi/fDDD7Lb7WZPAQAAAEA1ZXoA6dKli06ePKmPPvroknWzZs3SmTNndPPNN5s9BQAAAADVlOmL0B966CFt2rRJM2bM0J49ezRw4EB16NBBdrtd+fn52rdvn5YuXar169fL19dXTz31lNlTAAAAAFBNmR5AoqKi9Nxzz2nGjBlKSUlRSkqKS41hGGrQoIESExPVpk0bs6cAAAAAoJoyPYBI0oMPPqjIyEh9+OGH2rRpk7Kzs51jLVq00O9//3s9/PDDuuaaayrj7Svkxx9/1FtvvaX/+7//U3Z2tho1aqS+fftqzJgxatasWZnagwcPatasWcrIyNDZs2d13XXXKS4uToMHD5aHh+tVbLm5uXrvvfe0du1aHT16VE2bNtXtt9+up556Sv7+/lYdIgAAAFDtVEoAkaTrr79eM2bMkCQVFBTo3LlzatCgQbVYdL57926NHDlS586dU0hIiG688Ub95z//0aeffqp///vfSk5OVkBAgCRp3759GjJkiPLy8tSjRw/deOONSk9P17Rp07Rz507NnDmzzL7z8vI0dOhQZWZmqm3bturbt6+++eYbZxhbsmSJGjRoUBWHDQAAAFQ50xehu2O329W8efNqET6Kioo0fvx4nTt3TvHx8UpJSdFbb72lNWvWaMCAATp8+LBmzZol6edLxSZMmKC8vDy98sorWrx4sWbPnq3U1FSFhoYqJSVFqampZfafmJiozMxMxcbGatWqVUpKSlJqaqpiYmKUlZWlxMTEKjhqAAAAoHqotABSUFCgBQsW6JFHHlH//v0VFRUlScrOztbEiROr7Pkfq1at0vfff6/o6GgNGzbMub1+/fp67rnn1LRpUx08eFCStHnzZmVmZioyMlIxMTHO2saNG2vKlCmSpAULFji35+bmatmyZfL399fEiROdl2d5eXlpypQpCggIUHJysgoKCqw4VAAAAKDaqZQA8s033+juu+/W9OnTtWnTJv3www/KycmRJB05ckQrV67UoEGDtHz58sp4+0tas2aNJGnkyJEuY8HBwdq8ebPef/99SdKmTZskSf3793epDQ8PV5MmTZSRkaG8vDxJ0rZt21RYWKioqCiXtR5+fn7q1auXCgsLtW3bNlOPCQAAAKgpTA8gJ0+e1KhRo/TTTz8pLCxMzz33nNq3b+8cb9q0qXr27Kni4mJNmjRJ27dvN3sKl7Rnzx7Vq1dP119/vY4ePao5c+YoPj5eM2fO1K5du8rUZmVlSZJCQkLc7qtt27YqLS3V/v37y9R37NjRbX27du0kSZmZmaYcCwAAAFDTmL4Ifc6cOTpz5oyGDBmiyZMnS1KZdRItW7bUxx9/rOnTp2v+/Pn66KOP1KNHD7On4VZRUZGOHj2qa665RqtXr9akSZN0/vx55/jcuXP18MMPa8KECZLkfKL7r++K5eDYfurUKUk/h6+K1J8+fdqEoynL29tLzZqxuP1K0C8AQG1lxWccn6NVozb03fQzIF9++aXsdrueeeaZS9Y9/fTT8vf3t/QMiONSqZycHE2cOFH9+/fX6tWrtW3bNr3xxhsKDAzU+++/r6VLl0qSM5z4+Pi43Z9ju2NNh+Onr69vheoBAACAusb0MyDHjx9XSEhIuV/aHerXr6/WrVtbejnShQsXJP0cLG655ZYyt9C98847Zbfb9ec//1lvvfWWYmNjnYvIbTab2/0ZhlHm55XWm6moqFg5OecvXwjnbw5Onjz3m18LAEB19ls+4yrqaj5H8dtVh74HBPjK2/vq44PpZ0B8fX2dly5dzpkzZyx9MN8vz0z86U9/chnv27evmjdvruPHj+vQoUPO2wYXFha63Z8j0DjqKlpf3hkSAAAAoLYzPYB06dJFJ0+eVHp6+iXr0tLS9NNPP6lz585mT6FcDRo0UL169SRJ1157rduaFi1aSPo5HAUFBUn67xqPX/v1mo8rrQcAAADqGtMDyJ/+9CfnA/zKu91sWlqaxo8fL5vNpvvvv9/sKZTL09PTeUeu48ePu61xhIfGjRs772bluLvVLxmGoQMHDpTZ56XqJTnvlhUaGnoVRwEAAADUXKYHkP79+2vQoEE6fvy4HnzwQd1yyy3at2+fJOnxxx/XgAED9NBDD+n06dO644479Ic//MHsKVzSrbfeKklavXq1y9iBAwf0448/KigoSK1atVLv3r0lSevWrXOp3b59u7KzsxUeHu68jCwiIkI+Pj5KS0tzWWien5+vtLQ02e12hYeHm31YAAAAQI1QKQ8inDZtmiZOnKiAgACdOnVKBQUFMgxD69ev16FDh+Tr66snnniizCJwqzzwwAOy2+1asWKFUlJSnNtzcnIUHx+v0tJSDRkyRB4eHoqMjFTHjh21efNmffrpp87a7OxsJSQkSCr7QEO73a6BAwcqJydHCQkJKi4uliQVFxdr6tSpys3NVVxcnKXrXgAAAIDqxPS7YDmMHDlSQ4YMUUZGhvbv36+8vDz5+vqqTZs2uummm+Tn51dZb31JLVu21IsvvqhnnnlG48eP14cffqigoCDt3LlTZ86cUVRUlB5++GFJP9/Vavr06Ro+fLgmT56s5ORkBQUFaevWrcrJyVFsbKz69etXZv9jx45Venq6VqxYoYyMDHXq1El79uzRkSNH1KlTJ40ePboqDhsAAACoFkwPIM8++6xatmyphx56SH5+furVq5d69epl9ttclTvvvFNt27bVO++8o61btyorK0utWrXSQw89pJEjRzoXqktSWFiYli1bpqSkJKWnp+u7775T69atNW7cOA0aNMhl34GBgVqyZIlmz56ttWvXav369QoODtaoUaP02GOPVVnwAgAAAKoD0wPIv/71L3l5eemJJ54we9emuuGGG5SUlFSh2g4dOlS4Vvo5hMTHxys+Pv63Tg8AAAColUxfA3Lx4kVdc8018vT0NHvXAAAAAGo40wNI37599e2332rXrl1m7xoAAABADWf6JVjjxo3T0aNHNWzYMN12223q3r27mjVrpvr165f7mj59+pg9DQAAAADVkOkB5Pbbb5f084P6Pv/8c33++eeXrLfZbNqzZ4/Z0wAAAABQDZkeQIKDg83eJQAAAIBaolLuggUAAAAA7lTKk9ABAAAAwJ2rCiAvvfSSFi5caNZcAAAAANRyVxVAPv74Y33xxRfljq9bt04ZGRlX8xYAAAAAapFKvQTrySef1BtvvFGZbwEAAACgBqn0NSCGYVT2WwAAAACoIViEDgAAAMAyBBAAAAAAliGAAAAAALAMAQQAAACAZQggAAAAACzjdbU7OHfunLZt2/abxyUpIiLiaqcBAAAAoAa46gDy3Xff6cEHH3Q7ZrPZLjnuqNmzZ8/VTgMAAABADXDVAeRqn/PBc0IAAACAuuOqAsi+ffvMmgcAAACAOoBF6AAAAAAsQwABAAAAYBkCCAAAAADLEEAAAAAAWIYAAgAAAMAyBBAAAAAAliGAAAAAALAMAQQAAACAZQggAAAAACxDAAEAAABgGQIIAAAAAMsQQAAAAABYhgACAAAAwDIEEAAAAACWIYAAAAAAsAwBBAAAAIBlCCAAAAAALEMAAQAAAGAZAggAAAAAyxBAAAAAAFiGAAIAAADAMgQQAAAAAJYhgAAAAACwDAEEAAAAgGUIIAAAAAAsU+cDyNmzZ3XLLbcoNDTU7fjBgwc1btw49enTR127dlV0dLQWLlyo0tJSt/W5ubl69dVXNWDAAIWFhalfv356+eWXlZeXV5mHAQAAANQIdT6AJCQk6OTJk27H9u3bp/vvv1+ff/65WrRood69e+vYsWOaNm2aJkyY4FKfl5enoUOHat68ebLZbOrbt69sNps+/PBDxcXF6dy5c5V9OAAAAEC1VqcDyD/+8Q+tWrXK7ZhhGJowYYLy8vL0yiuvaPHixZo9e7ZSU1MVGhqqlJQUpaamlnlNYmKiMjMzFRsbq1WrVikpKUmpqamKiYlRVlaWEhMTLTgqAAAAoPqqswHk+PHjmjZtmrp37y5PT0+X8c2bNyszM1ORkZGKiYlxbm/cuLGmTJkiSVqwYIFze25urpYtWyZ/f39NnDhRHh4/t9bLy0tTpkxRQECAkpOTVVBQUMlHBgAAAFRfdTaATJo0SRcuXNCMGTPcjm/atEmS1L9/f5ex8PBwNWnSRBkZGc61Hdu2bVNhYaGioqLk7+9fpt7Pz0+9evVSYWGhtm3bZvKRAAAAADVHnQwgixYt0qZNmzR+/Hi1bt3abU1WVpYkKSQkxO1427ZtVVpaqv3795ep79ixo9v6du3aSZIyMzOvau4AAABATVbnAsjhw4f16quvKioqSkOGDCm37sSJE5KkZs2auR13bD916pQkOReyX67+9OnTv23iAAAAQC3gVdUTsFJJSYkmTJggm82ml156STabrdza8+fPS5J8fHzcjju2O9Z0OH76+vpWqN5s3t5eatasQaXsu7aiXwCA2sqKzzg+R6tGbeh7nToDMm/ePO3YsUPPPfecWrRocclaxyLy8kKKYRhlfl5pPQAAAFAX1ZkzIPv27dOsWbPUp08fDRo06LL1drtdklRYWOh2/MKFC2XqKlpf3hmSq1VUVKycnPOVsu/axvGbg5Mnr/y5LLXhtw4AgNrvt3zGVdTVfI7it6sOfQ8I8JW399XHhzoTQN544w1dvHhRxcXFGj9+fJkxx1PNHduff/55BQUFae/evTp16pTat2/vsr9fr/kICgqS9N81IZerBwAAAOqiOhNAHGsvNm/eXG5NSkqKJOmvf/2rOnbsqA0bNigrK0s9e/YsU2cYhg4cOCBPT09nOHHc/cpxN6xfc9wtKzQ09OoOBAAAAKjB6kwA+eVDA3+tU6dOKikpKXOL3N69e2vevHlat26dy92ytm/fruzsbEVGRjqf+RERESEfHx+lpaWpoKDAeUmWJOXn5ystLU12u13h4eEmHxkAAABQc9SpRehXIjIyUh07dtTmzZv16aefOrdnZ2crISFBkjRy5EjndrvdroEDByonJ0cJCQkqLi6WJBUXF2vq1KnKzc1VXFycy0MKAQAAgLqkzpwBuVIeHh6aPn26hg8frsmTJys5OVlBQUHaunWrcnJyFBsbq379+pV5zdixY5Wenq4VK1YoIyNDnTp10p49e3TkyBF16tRJo0ePrqKjAQAAAKoHzoBcQlhYmJYtW6YBAwbo0KFD2rx5s1q0aKGEhAS98MILLvWBgYFasmSJhg0bpuLiYq1fv14eHh4aNWqU5s+fLz8/P+sPAgAAAKhGOAMiac+ePeWOdejQQUlJSRXeV2BgoOLj4xUfH2/G1AAAAIBahTMgAAAAACxDAAEAAABgGQIIAAAAAMsQQAAAAABYhkXoAAAAtUyzZg1qxXtciZMnz1X1FFBBnAEBAAAAYBnOgAAAANQy0U+vrOopWCbltZiqngKuEGdAAAAAAFiGAAIAAADAMgQQAAAAAJYhgAAAAACwDAEEAAAAgGUIIAAAAAAsQwABAAAAYBkCCAAAAADLEEAAAAAAWIYAAgAAAMAyBBAAAAAAliGAAAAAALAMAQQAAACAZQggAAAAACxDAAEAAABgGQIIAAAAAMsQQAAAAABYhgACAAAAwDJeVT0B1FzNmjWo6ilclZo+fwAAgJqIMyAAAAAALMMZEFy16KdXVvUULJPyWkxVTwEAAKBG4wwIAAAAAMsQQAAAAABYhgACAAAAwDIEEAAAAACWIYAAAAAAsAwBBAAAAIBlCCAAAAAALEMAAQAAAGAZAggAAAAAyxBAAAAAAFiGAAIAAADAMgQQAAAAAJYhgAAAAACwDAEEAAAAgGUIIAAAAAAsQwABAAAAYBkCCAAAAADLEEAAAAAAWMarqidgtZKSEi1evFifffaZDhw4oJKSErVq1Up33nmnRo0apfr165epP3jwoGbNmqWMjAydPXtW1113neLi4jR48GB5eLjmt9zcXL333ntau3atjh49qqZNm+r222/XU089JX9/f6sOEwAAAKiW6tQZkJKSEj3xxBOaNm2aDhw4oK5duyoyMlInTpxQUlKShg0bpvPnzzvr9+3bp/vvv1+ff/65WrRood69e+vYsWOaNm2aJkyY4LL/vLw8DR06VPPmzZPNZlPfvn1ls9n04YcfKi4uTufOnbPycAEAAIBqp04FkGXLlunLL79UaGioVq9erY8++kjz5s1Tamqqunfvrq+//lpvv/22JMkwDE2YMEF5eXl65ZVXtHjxYs2ePVupqakKDQ1VSkqKUlNTy+w/MTFRmZmZio2N1apVq5SUlKTU1FTFxMQoKytLiYmJVXDUAAAAQPVRpwLIZ599Jkl6/vnn1bx5c+f2xo0b64UXXpAkff7555KkzZs3KzMzU5GRkYqJiSlTO2XKFEnSggULnNtzc3O1bNky+fv7a+LEic7Ls7y8vDRlyhQFBAQoOTlZBQUFlXqMAAAAQHVWpwJIo0aN1K5dO4WFhbmMtWnTRpJ04sQJSdKmTZskSf3793epDQ8PV5MmTZSRkaG8vDxJ0rZt21RYWKioqCiXtR5+fn7q1auXCgsLtW3bNjMPCQAAAKhR6lQAeffdd/XFF1/Ibre7jO3evVuSdM0110iSsrKyJEkhISFu99W2bVuVlpZq//79Zeo7duzotr5du3aSpMzMzKs4AgAAAKBmq3N3wXLHMAwlJSVJkm6//XZJ/z0T0qxZM7evcWw/deqUJOnkyZMVqj99+rRJsy7L29tLzZo1qJR9AwAAVHd15XtQbTjOOnUGpDyvv/66tm7dqqZNm2rUqFGS5Lwblo+Pj9vXOLY71nQ4fvr6+laoHgAAAKiL6vwZkDfffFNz5syRt7e3EhMT1bhxY0lyLiK32WxuX2cYRpmfV1pvtqKiYuXknL98oYlqQwIHAAC1w8mTtftxB47vXVV5nAEBvvL2vvr4UGcDSHFxsaZOnaqlS5eqfv36mjVrliIiIpzjjnUihYWFbl9/4cKFMnUVrS/vDAkAAABQF9TJS7Dy8/P12GOPaenSpWrYsKHef/999enTp0xNUFCQpP+u8fi1X6/5uNJ6AAAAoC6qcwEkJydHw4YN06ZNmxQcHKxPPvmkzJkPB8fdrBx3t/olwzB04MABeXp6qn379petl+S8W1ZoaKgpxwEAAADURHUqgBQVFenRRx/VN998ow4dOmjJkiXl3ma3d+/ekqR169a5jG3fvl3Z2dkKDw93PvMjIiJCPj4+SktLc1lonp+fr7S0NNntdoWHh5t8VAAAAEDNUacCSFJSknbu3Kng4GAtWLDA+cwPdyIjI9WxY0dt3rxZn376qXN7dna2EhISJEkjR450brfb7Ro4cKBycnKUkJCg4uJiSf9da5Kbm6u4uDiXhxQCAAAAdUmdWYR+9uxZLViwQJLUuHFjTZ8+vdzamTNnysPDQ9OnT9fw4cM1efJkJScnKygoSFu3blVOTo5iY2PVr1+/Mq8bO3as0tPTtWLFCmVkZKhTp07as2ePjhw5ok6dOmn06NGVeowAAABAdVdnAsiuXbucd6j65ptv9M0335RbO3PmTElSWFiYli1bpqSkJKWnp+u7775T69atNW7cOA0aNMjldYGBgVqyZIlmz56ttWvXav369QoODtaoUaP02GOPyc/Pr3IODgAAAKgh6kwAufXWW5WZmXnFr+vQoYPzKekVERgYqPj4eMXHx1/xewEAAAC1XZ1aAwIAAACgahFAAAAAAFiGAAIAAADAMgQQAAAAAJYhgAAAAACwDAEEAAAAgGUIIAAAAAAsQwABAAAAYBkCCAAAAADLEEAAAAAAWIYAAgAAAMAyBBAAAAAAliGAAAAAALAMAQQAAACAZQggAAAAACxDAAEAAABgGQIIAAAAAMsQQAAAAABYhgACAAAAwDIEEAAAAACWIYAAAAAAsAwBBAAAAIBlCCAAAAAALEMAAQAAAGAZAggAAAAAyxBAAAAAAFiGAAIAAADAMgQQAAAAAJYhgAAAAACwDAEEAAAAgGUIIAAAAAAsQwABAAAAYBkCCAAAAADLEEAAAAAAWIYAAgAAAMAyBBAAAAAAliGAAAAAALAMAQQAAACAZQggAAAAACxDAAEAAABgGQIIAAAAAMt4VfUEAAAAgKvVrFmDqp6CJX55nCdPnqvCmfx2nAEBAAAAYBnOgAAAAKDGi356ZVVPwTIpr8VU9RSuCmdAAAAAAFiGAFJJtmzZogcffFA9e/ZUjx49NGzYMG3atKmqpwUAAABUKQJIJVi+fLlGjhypHTt2KCwsTN27d9eOHTs0atQoLV26tKqnBwAAAFQZ1oCY7MSJE5oyZYoaNGigRYsWKSQkRJK0a9cujRw5Ui+++KL69u2r5s2bV/FMAQAAAOtxBsRkCxcuVFFRkUaMGOEMH5IUFhamUaNG6cKFC5wFAQAAQJ1FADGZY51H//79XcZuu+02SdLGjRstnRMAAABQXRBATGQYhrKysuTh4aF27dq5jLdp00YeHh7KysqSYRhVMEMAAACgahFATJSTk6OioiIFBgbK29vbZdzLy0uNGjXS+fPnlZ+fXwUzBAAAAKqWzeBX8aY5evSo+vbtq5YtW+pf//qX25p+/frpxx9/1MaNG1mIDgAAgDqHMyAm8vC4fDvJewAAAKjLCCAmstvtkqQLFy6UW+MY8/X1tWROAAAAQHVCADGRv7+/7Ha7zpw5o+LiYpfx4uJinTlzRvXr11fDhg2rYIYAAABA1SKAmMhms6lDhw4qKSnR999/7zJ+8OBBlZaWlnk+CAAAAFCXEEBM1rt3b0nS2rVrXcYc2/r06WPpnAAAAIDqggBisnvvvVf169fX3Llz9Z///Me5fffu3Zo3b558fHw0ePDgKpwhAAAAUHW4DW8l+OSTTzR16lTVq1dPUVFRMgxD6enpKi4u1owZMxQTE1PVUwQAAACqBAGkkqxfv17z5s3Tnj175O3trdDQUD3++OPq1atXVU8NAAAAqDIEEAAAAACWYQ0IAAAAAMsQQAAAAABYhgACAAAAwDIEEAAAAACWIYAAAAAAsAwBBAAAAIBlCCAAAAAALEMAAQAAAGAZAggAAAAAyxBAAAAAAFiGAIJqoaSkRAsXLtR9992n7t27KywsTHfddZfeeustXbhwwaX+4MGDGjdunPr06aOuXbsqOjpaCxcuVGlpqdv95+bm6tVXX9WAAQMUFhamfv366eWXX1ZeXl6581myZIkGDhyo7t27q1evXho7dqwOHjxY7jFs2bJFDz74oHr27KkePXpo2LBh2rRp029rSBU4e/asbrnlFoWGhrodp+fm+fHHH/X888/r1ltvVZcuXdS7d29NnjxZJ0+edKml7+ZYuXKlYmNj1a1bN4WFhSkmJkYff/yxSkpKXGrp+W+3fPlyhYaG6quvvnI7Xht6e6XHUNku1/MNGzbo4YcfVmRkpLp06aLf/e53+tvf/qZjx465rafnl3e5nv/aqFGjFBoaqvT0dLfjdbHnNsMwDFP2BPxGJSUleuKJJ/Tll1/Kbrera9eu8vLy0tdff63c3Fx17dpVH3/8sXx9fSVJ+/bt05AhQ5SXl6cePXqoSZMmSk9PV25urqKjozVz5swy+8/Ly9PgwYOVmZmptm3bKiQkRN98841++OEHdejQQUuWLFGDBg3KvOa5557T8uXL1ahRI0VEROjo0aPavXu37Ha7PvnkE3Xq1KlM/fLly/Xcc8/J29tbUVFRKi0tVXp6ui5evKipU6cqLi6ucptogrFjx2rVqlWSpMzMzDJj9Nw8u3fv1siRI3Xu3DmFhITouuuu03/+8x8dO3ZM1113nZKTkxUQECCJvpvllVde0fvvvy9vb29FRETI09NTX331lQoKCtS/f3/Nnj1bNptNEj2/Gjt27NBDDz2kgoICffLJJ7rpppvKjNeG3l7pMVS2y/V8zpw5eu211+Th4aGwsDA1adJEe/fu1U8//aTGjRtr4cKFat++vbOenl/e5Xr+a4sWLVJCQoIkaf78+erZs2eZ8TrbcwOoYosXLzZCQkKM6Oho49ixY87tp0+fNuLi4oyQkBBj5syZhmEYRmlpqREdHW2EhIQYK1asKFPr2L569eoy+582bZoREhJixMfHGyUlJYZhGMbFixeNZ555xggJCTGmTp1apj41NdUICQkx/vjHPxq5ublu51laWurcfvz4caNLly5GeHi4kZmZ6dz+9ddfGz169DBuvPHGMsdVHaWkpBghISHOf36JnpvnwoULxu23326EhIQY8+fPd24vLCw0Ro8ebYSEhBjTpk0zDIO+m2Xfvn1GaGioERUVZRw4cMC5/dixY8bvfve7Mn2k579damqq0b17d+ffIdu2bSszXht6+1uOoTJdruffffedccMNNxjdunUztm/f7txeVFRkvPDCC0ZISIgRGxtb5jX0/NIu1/NfO3TokNGtWzdn/b///W+XmrracwIIqlxsbKwREhJipKWluYzt3bvXCAkJMX73u98ZhmEYmzZtMkJCQoyhQ4e61H711VdGSEiIMWTIEOe2nJwcIywszOjRo4dx7ty5MvV5eXlGRESEERYWZuTn5zu3O0JPenq6y3uMGDHCZa6vvfaaERISYsyaNcul/u233zZCQkKMN998swKdqBrHjh0zIiMjjbi4OOOGG25wCSD03DyfffaZERISYjz99NMuYz/99JNx8803Gw899JBhGPTdLB988IEREhJiTJ8+3WVs7ty5ZUIfPb9yR48edX5R6tq1q3HzzTe7/WJWG3p7pcdQWSra85kzZ5b730dRUZERFRVlhISEGD/88INhGPT8Uira818qKSkx4uLijIiICOOuu+5yG0Dqcs9ZA4Iq16hRI7Vr105hYWEuY23atJEknThxQpKc1yv279/fpTY8PFxNmjRRRkaG87rJbdu2qbCwUFFRUfL39y9T7+fnp169eqmwsFDbtm2T9PN1mDt37lRgYKDb06qO9924caNz26XmdNttt7nUVzeTJk3ShQsXNGPGDLfj9Nw8a9askSSNHDnSZSw4OFibN2/W+++/L4m+m8VxadXx48ddxs6cOSNJCgwMlETPf4vExEStXLlSXbp00dKlS9WuXTu3dbWht1d6DJWloj2vV6+eQkNDFRER4Xbs2muvlfTfz1d6Xr6K9vyX5s6dqx07dmjy5Mlq2rSp25q63HMCCKrcu+++qy+++EJ2u91lbPfu3ZKka665RpKUlZUlSQoJCXG7r7Zt26q0tFT79+8vU9+xY0e39Y6/RBxrHvbv3y/DMNS+fXt5eLj+7+Go//bbbyVJhmEoKytLHh4ebv9CatOmjTw8PJSVlSWjGi63WrRokTZt2qTx48erdevWbmvouXn27NmjevXq6frrr9fRo0c1Z84cxcfHa+bMmdq1a1eZWvpujt69e8tms2n16tWaM2eOsrOzlZubq+TkZM2fP18BAQG67777JNHz36Jdu3aaMWOGli1bVu4NLKTa0dsrPYbKUtGejxkzRn//+9/Vq1cvl7GCggLn8fz685Weu6pozx327dunWbNmacCAAYqOji63ri733OuqXg1UIsMwlJSUJEm6/fbbJf33NzXNmjVz+xrH9lOnTkmS865Cl6s/ffp0heqDgoLK1Ofk5KioqEiNGzeWt7e3S72Xl5caNWqk06dPKz8/3+U3HFXp8OHDevXVVxUVFaUhQ4aUW0fPzVFUVKSjR4/qmmuu0erVqzVp0iSdP3/eOT537lw9/PDDmjBhgiT6bpb27dtr2rRpevHFF/Xaa6/ptddec451795dL730koKDgyXR89/i0UcfrVBdbejtlR5DZalozy9l7ty5Kigo0I033uj875+el+9Kel5UVKQJEyaoYcOGeuGFFy5ZW5d7zhkQVFuvv/66tm7dqqZNm2rUqFGS5PzC5uPj4/Y1ju0FBQVlfjruoHW19fXr1y9T55hPefW/fI/8/Pxya6xWUlKiCRMmyGaz6aWXXnJepuIOPTeH43R1Tk6OJk6cqP79+2v16tXatm2b3njjDQUGBur999/X0qVLJdF3M/Xo0UO9evWS3W5XVFSUbr75Zvn5+Wn37t1atGiR8zd/9Lzy1IbeXukxVFcbNmzQe++9Jw8PDz3zzDPO7fTcHG+++aYyMzM1depUNW7c+JK1dbnnnAFBtfTmm29qzpw58vb2VmJiovN/Yscpx/K+MDu+SDh+WlV/KdXpchSHefPmaceOHfqf//kftWjR4pK19NwcjufZnD9/XrfcckuZ2xjeeeedstvt+vOf/6y33npLsbGx9N0kO3fu1EMPPaSWLVsqJSXFed378ePH9dRTT2n+/Pny9/fXX/7yF3peiWpDb6/0PaqjL7/8UmPGjFFJSYmefvrpMreEpedXLyMjQx988IHuuecet2sofq0u95wzIKhWiouL9be//U1vv/226tevr9mzZ5dZQOdYJ1JYWOj29Y4veY66itY7fjtwufqioiK39e4elljee1Q1x7Wpffr00aBBgy5bT8/N8cu5/OlPf3IZ79u3r5o3b67jx4/r0KFD9N0k06dPV35+vl588UVn+JCk5s2b6/XXX5eXl5c++ugjnT9/np5XotrQ2ys9huomOTlZTz75pC5cuKAnn3zS5bIien51CgoK9Oyzz6pZs2aaPHlyhV5Tl3tOAEG1kZ+fr8cee0xLly5Vw4YN9f7776tPnz5lahzXN5Z37eGvr480u/7X10b6+/vLbrfrzJkzKi4udqkvLi7WmTNnVL9+fTVs2NDtPq32xhtv6OLFiyouLtb48ePL/ON4wqnj37Ozs+m5SRo0aKB69epJUpkvwr/kOBt15swZ+m6CwsJC7dq1Sw0aNHB7l71WrVqpbdu2Kigo0KFDh+h5JaoNvb3SOVUniYmJmjRpkkpKSvTcc89pzJgxLjX0/OosXrxYhw8fVmBgoKZOnVrms9WxsPvdd9/V+PHjnU9Qr8s9J4CgWsjJydGwYcO0adMmBQcH65NPPnF760DHnSIc/zP/kmEYOnDggDw9PZ1Pdr1UvSTnXRwcd7Xo0KGDPDw8yr27w4EDByT99+4QNptNHTp0UElJib7//nuX+oMHD6q0tLTcu0lUBcd1m5s3b1ZKSkqZfxynVB3/XlBQQM9N8sseubslrPTfv/AbN25M301w7tw5GYYhT0/PcmscYxcvXqTnlag29PZKj6E6MAxDkyZN0jvvvCNvb2+9/vrrGjFihNtaen51HJ+tmZmZLp+tji/tW7ZsUUpKig4fPiypbvecAIIqV1RUpEcffVTffPONOnTooCVLlpT7gdq7d29J0rp161zGtm/fruzsbIWHhzvvBhMRESEfHx+lpaW5LJjKz89XWlqa7Ha7wsPDJcn559OnT2v79u0u77F27VpJKnNmxjEnx9jl6qvaggULlJmZ6fYfx5cxx79fe+219NxEt956qyRp9erVLmMHDhzQjz/+qKCgILVq1Yq+m6BJkyYKDAzU2bNnXW5zLP0cBPfv36969eqpXbt29LwS1YbeXukxVAcvv/yykpOT5e/vr/fff1933nlnubX0/OqMHj263M9Wx62Q58+fr8zMTN17772S6nbPCSCocklJSdq5c6eCg4O1YMEC5z3J3YmMjFTHjh21efNmffrpp87t2dnZSkhIkFT2IW92u10DBw5UTk6OEhISnKcgi4uLNXXqVOXm5iouLq7M/0iDBw+WJCUkJCg7O9u5fenSpdqyZYs6d+5cZuHevffeq/r162vu3Ln6z3/+49y+e/duzZs3Tz4+Ps591kT03DwPPPCA7Ha7VqxYoZSUFOf2nJwcxcfHq7S0VEOGDJGHhwd9N4GHh4fuv/9+ST8/cPOXZ56ys7M1fvx4Xbx4Uffdd5/8/PzoeSWqDb290mOoahs3btRHH30kLy8vvffee4qMjLxkPT23Xl3uuc2oLrcOQJ109uxZ9enTR4WFhercufMlny7quGvQrl27NHz4cBUUFKhr164KCgrS1q1blZOTo9jYWE2bNs3lPR544AEdPHhQrVq1UqdOnbRnzx4dOXJEnTp10sKFC+Xn51fmNX/961/1xRdfKCAgQJGRkTp+/Lh27dqlhg0batGiRS4PDfrkk080depU1atXT1FRUTIMQ+np6SouLtaMGTMUExNjUscqV6dOnVRSUuJ86JEDPTfPqlWr9Mwzz6i4uFidO3dWUFCQdu7cqTNnzigqKkrz5s1zrhWh71fvwoULGjVqlLZu3ar69esrIiJCNptNX3/9tXJzc9WtWzd9+OGHzgWV9PzqDBs2TFu3btUnn3zi8qTm2tDbKz0GK5TX89jYWH399ddq3rz5JcPH448/7rychp5XzKX+O3dnxIgRSktL0/z588uEA6nu9pwAgiq1ceNGPfLIIxWq/eWX4qysLCUlJSk9PV1FRUVq3bq1HnjgAQ0aNMjt9d5nz57V7NmztXbtWp0+fVrBwcG67bbb9Nhjj6lBgwYu9cXFxVq4cKGSk5N16NAhNWrUSDfddJPGjBmjNm3auJ3f+vXrNW/ePO3Zs0fe3t4KDQ3V448/7vYptNVVeQFEoudm2rt3r9555x1t3bpVBQUFatWqlWJiYjRy5Ehn+HCg71fv4sWLWrRokVauXKkDBw6otLRUbdq00d13360RI0a4PKCLnv92l/tiVht6e6XHUNnc9fz8+fPq0aOH88Yil/LrL8X0/PLMDCBS3ew5AQQAAACAZVgDAgAAAMAyBBAAAAAAliGAAAAAALAMAQQAAACAZQggAAAAACxDAAEAAABgGQIIAAAAAMsQQAAAAABYhgACAAAAwDIEEAAAAACWIYAAAAAAsAwBBAAAAIBlCCAAAAAALEMAAQAAAGAZAggAAAAAyxBAAAAAAFiGAAIAAADAMv8fKS0jUVLo8uAAAAAASUVORK5CYII=\n",
      "text/plain": [
       "<Figure size 432x288 with 1 Axes>"
      ]
     },
     "metadata": {
      "image/png": {
       "height": 251,
       "width": 400
      }
     },
     "output_type": "display_data"
    }
   ],
   "source": [
    "df.income.plot.hist()"
   ]
=======
>>>>>>> Stashed changes
  },
  {
   "cell_type": "markdown",
   "metadata": {},
   "source": [
    "# Visual Exploration\n",
    "\n",
    "Matplotlib tutorials: https://matplotlib.org/3.3.1/tutorials/index.html\n",
    "\n",
    "Matplotlib gallery: https://matplotlib.org/3.3.1/tutorials/introductory/sample_plots.html#sphx-glr-tutorials-introductory-sample-plots-py\n",
    "\n",
    "Seaborn tutorials: https://seaborn.pydata.org/tutorial.html\n",
    "\n",
    "\n",
    "Seaborn gallery: https://seaborn.pydata.org/examples/index.html\n",
    "\n",
    "**More examples for visualizing distributions:**\n",
    "- http://seaborn.pydata.org/tutorial/distributions.html"
   ]
  },
  {
   "cell_type": "code",
<<<<<<< Updated upstream
   "execution_count": 16,
=======
   "execution_count": null,
>>>>>>> Stashed changes
   "metadata": {},
   "outputs": [],
   "source": [
    "#Define metric and non-metric features. Why?\n",
    "non_metric_features = [\"education\", \"status\", \"gender\", \"dependents\", \"description\"]\n",
    "metric_features = df.columns.drop(non_metric_features).to_list()"
   ]
  },
  {
   "cell_type": "markdown",
   "metadata": {},
   "source": [
    "## Pyplot-style vs Object-Oriented-style\n",
    "- Explicitly create figures and axes, and call methods on them (the \"object-oriented (OO) style\").\n",
    "- Rely on pyplot to automatically create and manage the figures and axes, and use pyplot functions for plotting."
   ]
  },
  {
   "cell_type": "markdown",
   "metadata": {},
   "source": [
    "## Numeric Variables' Univariate Distribution"
   ]
  },
  {
   "cell_type": "code",
<<<<<<< Updated upstream
   "execution_count": 17,
   "metadata": {},
   "outputs": [
    {
     "data": {
      "image/png": "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\n",
      "text/plain": [
       "<Figure size 432x288 with 1 Axes>"
      ]
     },
     "metadata": {
      "image/png": {
       "height": 271,
       "width": 383
      }
     },
     "output_type": "display_data"
    }
   ],
=======
   "execution_count": null,
   "metadata": {},
   "outputs": [],
>>>>>>> Stashed changes
   "source": [
    "# Single Metric Variable Histogram\n",
    "plt.hist(df[\"age\"], bins=10)  # mess around with the bins\n",
    "plt.title(\"age\", y=-0.2)\n",
    "\n",
    "plt.show()"
   ]
  },
  {
   "cell_type": "code",
<<<<<<< Updated upstream
   "execution_count": 18,
   "metadata": {},
   "outputs": [
    {
     "data": {
      "image/png": "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\n",
      "text/plain": [
       "<Figure size 432x288 with 1 Axes>"
      ]
     },
     "metadata": {
      "image/png": {
       "height": 231,
       "width": 398
      }
     },
     "output_type": "display_data"
    }
   ],
=======
   "execution_count": null,
   "metadata": {},
   "outputs": [],
>>>>>>> Stashed changes
   "source": [
    "# Single Metric Variable Box Plot\n",
    "sns.boxplot(y=df[\"age\"])\n",
    "\n",
    "plt.show()"
   ]
  },
  {
   "cell_type": "markdown",
   "metadata": {},
   "source": [
    "What information can we extract from the plots above?"
   ]
  },
  {
   "cell_type": "code",
<<<<<<< Updated upstream
   "execution_count": 20,
   "metadata": {},
   "outputs": [
    {
     "data": {
      "image/png": "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\n",
      "text/plain": [
       "<Figure size 1440x792 with 12 Axes>"
      ]
     },
     "metadata": {
      "image/png": {
       "height": 728,
       "width": 1175
      }
     },
     "output_type": "display_data"
    }
   ],
=======
   "execution_count": null,
   "metadata": {},
   "outputs": [],
>>>>>>> Stashed changes
   "source": [
    "# All Numeric Variables' Histograms in one figure\n",
    "sns.set()\n",
    "\n",
    "# Prepare figure. Create individual axes where each histogram will be placed\n",
    "fig, axes = plt.subplots(2, ceil(len(metric_features) / 2), figsize=(20, 11))\n",
    "\n",
    "# Plot data\n",
    "# Iterate across axes objects and associate each histogram (hint: use the ax.hist() instead of plt.hist()):\n",
    "for ax, feat in zip(axes.flatten(), metric_features): # Notice the zip() function and flatten() method\n",
    "    # CODE HERE (extra: set each axis title as the feature name)\n",
    "        ax.hist(df[feat])\n",
    "        ax.set_title(feat,y=-.15)\n",
    "    \n",
    "# Layout\n",
    "# Add a centered title to the figure:\n",
    "title = \"Numeric Variables' Histograms\"\n",
    "\n",
    "plt.suptitle(title)\n",
    "\n",
    "plt.show()"
   ]
  },
  {
   "cell_type": "code",
   "execution_count": null,
   "metadata": {},
   "outputs": [],
   "source": [
    "# All Numeric Variables' Box Plots in one figure\n",
    "sns.set()\n",
    "\n",
    "# Prepare figure. Create individual axes where each box plot will be placed\n",
    "fig, axes = plt.subplots(2, ceil(len(metric_features) / 2), figsize=(20, 11))\n",
    "\n",
    "# Plot data\n",
    "# Iterate across axes objects and associate each box plot (hint: use the ax argument):\n",
    "for ax, feat in zip(axes.flatten(), metric_features): # Notice the zip() function and flatten() method\n",
    "    # CODE HERE\n",
    "    \n",
    "# Layout\n",
    "# Add a centered title to the figure:\n",
    "title = \"Numeric Variables' Box Plots\"\n",
    "\n",
    "plt.suptitle(title)\n",
    "\n",
    "plt.show()"
   ]
  },
  {
   "cell_type": "markdown",
   "metadata": {},
   "source": [
    "### Insights:\n",
    "- univariate distributions\n",
    "- potential univariate outliers"
   ]
  },
  {
   "cell_type": "markdown",
   "metadata": {},
   "source": [
    "### During our Exploratory Data Analysis (EDA), we must also account for:\n",
    "- Coherence check\n",
    "- Outliers\n",
    "- Missing values\n",
    "- Feature Engineering"
   ]
  },
  {
   "cell_type": "markdown",
   "metadata": {},
   "source": [
    "### Depending on the context, various steps must be considered when performing Data Preprocessing. The most relevant steps are the following:\n",
    "- Coherence check (find inconsistent values, missing values, outliers and any other problem you may find in your dataset)\n",
    "- Data editing (fix inconsistent values)\n",
    "- Data cleansing (drop observations - Outlier removal and removal of inconsistent values and/or features)\n",
    "- Data wrangling (feature extraction/engineering and transformation)\n",
    "- Data reduction (reducing the dimensionality of a dataset, producing summary statistics, reducing the number of records in a dataset)"
   ]
  },
  {
   "cell_type": "markdown",
   "metadata": {},
   "source": [
    "# More Visualizations!"
   ]
  },
  {
   "cell_type": "markdown",
   "metadata": {},
   "source": [
    "## Pairwise Relationship of Numerical Variables"
   ]
  },
  {
   "cell_type": "code",
   "execution_count": null,
   "metadata": {},
   "outputs": [],
   "source": [
    "# Single Metric Variable Scatter plot\n",
    "plt.scatter(df[\"age\"], df[\"income\"], edgecolors=\"white\")\n",
    "plt.xlabel(\"age\")\n",
    "plt.ylabel(\"income\")\n",
    "\n",
    "plt.show()"
   ]
  },
  {
   "cell_type": "code",
   "execution_count": null,
   "metadata": {
    "scrolled": false
   },
   "outputs": [],
   "source": [
    "# Pairwise Relationship of Numerical Variables\n",
    "sns.set()\n",
    "\n",
    "# Setting pairplot\n",
    "sns.pairplot(df[metric_features], diag_kind=\"hist\")\n",
    "\n",
    "# Layout\n",
    "plt.subplots_adjust(top=0.95)\n",
    "plt.suptitle(\"Pairwise Relationship of Numerical Variables\", fontsize=20)\n",
    "\n",
    "plt.show()"
   ]
  },
  {
   "cell_type": "markdown",
   "metadata": {},
   "source": [
    "### Insights:\n",
    "- possible bivariate relationships\n",
    "- potential bivariate outliers\n",
    "- univariate distributions (diagonal)"
   ]
  },
  {
   "cell_type": "markdown",
   "metadata": {},
   "source": [
    "### Example of Visualization formatting"
   ]
  },
  {
   "cell_type": "code",
   "execution_count": null,
   "metadata": {},
   "outputs": [],
   "source": [
    "# making a joint plot with default formatting\n",
    "sns.jointplot(data=df, x=\"house_keeping\", y=\"frq\")\n",
    "plt.show()"
   ]
  },
  {
   "cell_type": "code",
   "execution_count": null,
   "metadata": {},
   "outputs": [],
   "source": [
    "# Making the same visualization with customized formatting\n",
    "sns.set(style=\"ticks\")\n",
    "sns.jointplot(data=df, x=\"house_keeping\", y=\"frq\", kind=\"hex\", color=\"red\")\n",
    "plt.show()"
   ]
  },
  {
   "cell_type": "markdown",
   "metadata": {},
   "source": [
    "## Categorical/Low Cardinality Variables' Absolute Frequencies"
   ]
  },
  {
   "cell_type": "code",
   "execution_count": null,
   "metadata": {
    "scrolled": false
   },
   "outputs": [],
   "source": [
    "# Single Non-Metric variable bar plot\n",
    "sns.set() # this resets our formatting defaults\n",
    "sns.countplot(x=df[\"education\"])\n",
    "\n",
    "plt.show()"
   ]
  },
  {
   "cell_type": "code",
   "execution_count": null,
   "metadata": {},
   "outputs": [],
   "source": [
    "# formatting the color of a simple bar chart\n",
    "sns.countplot(x=df[\"education\"], color='#007acc')\n",
    "\n",
    "# try replacing the color to 'red' or 'blue', instead of using an RGB code.\n",
    "# alternatively, you can get the RGB code for a given color here:\n",
    "# https://www.w3schools.com/colors/colors_picker.asp\n",
    "# keep in mind any other color picker will do just as well\n",
    "\n",
    "plt.show()"
   ]
  },
  {
   "cell_type": "markdown",
   "metadata": {},
   "source": [
    "What information can we extract from the plot above?\n",
    "\n",
    "**Using the same logic from the multiple box plot figure above, build a multiple bar plot figure for each non-metric variable:**"
   ]
  },
  {
   "cell_type": "code",
   "execution_count": null,
   "metadata": {},
   "outputs": [],
   "source": [
    "# All Non-Metric Variables' Absolute Frequencies\n",
    "sns.set()\n",
    "title = \"Categorical/Low Cardinality Variables' Absolute Frequencies\"\n",
    "# CODE HERE"
   ]
  },
  {
   "cell_type": "markdown",
   "metadata": {},
   "source": [
    "### Insights:\n",
    "- low frequency values\n",
    "- high cardinality"
   ]
  },
  {
   "cell_type": "markdown",
   "metadata": {},
   "source": [
    "## Comparing two categorical variables"
   ]
  },
  {
   "cell_type": "code",
   "execution_count": null,
   "metadata": {},
   "outputs": [],
   "source": [
    "# Let's break this down, step by step (pandas plot - matplotlib behind)\n",
    "sns.set()\n",
    "df_counts = df\\\n",
    "    .groupby(['description', 'dependents'])\\\n",
    "    .size()\\\n",
    "    .unstack()\\\n",
    "    .plot.bar(stacked=True)"
   ]
  },
  {
   "cell_type": "markdown",
   "metadata": {},
   "source": [
    "## Comparing a categorical variable vs continuous (or discrete) variables"
   ]
  },
  {
   "cell_type": "code",
   "execution_count": null,
   "metadata": {},
   "outputs": [],
   "source": [
    "# Pairwise Relationship of Numerical Variables using a categorical variable hue\n",
    "sns.set()\n",
    "\n",
    "# Setting pairplot\n",
    "sns.pairplot(df[metric_features + ['gender']], diag_kind=\"hist\", hue='gender')\n",
    "\n",
    "# Layout\n",
    "plt.subplots_adjust(top=0.95)\n",
    "plt.suptitle(\"Pairwise Relationship of Numerical Variables\", fontsize=20)\n",
    "\n",
    "plt.show()"
   ]
  },
  {
   "cell_type": "markdown",
   "metadata": {},
   "source": [
    "## Explore categorical data vs continuous and discrete data\n",
    "\n",
    "Another example of visualization. Although it is not a simple visualization to produce, it can be very informative. Let's start off simple and then let's customize the plot's appearance."
   ]
  },
  {
   "cell_type": "code",
   "execution_count": null,
   "metadata": {},
   "outputs": [],
   "source": [
    "# notice we drop missing values in order to not plot it as a distinct value\n",
    "educ_vals = df.education.dropna().unique()\n",
    "\n",
    "fig, axes = plt.subplots(len(metric_features), len(educ_vals), figsize=(25,18), sharex=True, sharey=\"row\")\n",
    "\n",
    "for ax, (feat, educ_deg) in zip(axes.flatten(), product(metric_features, educ_vals)):\n",
    "    # get the data for each subplot\n",
    "    data = df[df.education == educ_deg]\n",
    "    data['dependents'] = data['dependents'].astype(object)\n",
    "    \n",
    "    # we are distinguishing points according to the variable \"dependents\"\n",
    "    sns.pointplot(x=\"dependents\", y=feat, hue=\"gender\", hue_order=[\"F\", \"M\"], data=data, capsize=.2,\n",
    "             height=6, aspect=.75, ax=ax)\n",
    "    \n",
    "    # remove the typical default y and x labels and legend of each axis\n",
    "    # CODE HERE\n",
    "\n",
    "# set columns' titles (education)\n",
    "# CODE HERE\n",
    "\n",
    "# set metric names\n",
    "# CODE HERE\n",
    "\n",
    "# set x axis label (dependents)\n",
    "# CODE HERE\n",
    "\n",
    "# Set legend (gender)\n",
    "# CODE HERE\n",
    "\n",
    "# set figure\n",
    "plt.subplots_adjust(top=0.92)\n",
    "plt.suptitle(\"Three-way ANOVA for each metric variable\", fontsize=25)\n",
    "\n",
    "plt.show()"
   ]
  },
  {
   "cell_type": "markdown",
   "metadata": {},
   "source": [
    "## Metric Variables' Correlation Matrix"
   ]
  },
  {
   "cell_type": "code",
   "execution_count": null,
   "metadata": {},
   "outputs": [],
   "source": [
    "# Prepare figure\n",
    "fig = plt.figure(figsize=(10, 8))\n",
    "\n",
    "# Obtain correlation matrix. Round the values to 2 decimal cases. Use the DataFrame corr() and round() method.\n",
    "corr = # CODE HERE\n",
    "\n",
    "# Build annotation matrix (values above |0.5| will appear annotated in the plot)\n",
    "mask_annot = np.absolute(corr.values) >= 0.5\n",
    "annot = np.where(mask_annot, corr.values, np.full(corr.shape,\"\")) # Try to understand what this np.where() does\n",
    "\n",
    "# Plot heatmap of the correlation matrix\n",
    "sns.heatmap(data=corr, annot=annot, cmap=sns.diverging_palette(220, 10, as_cmap=True), \n",
    "            fmt='s', vmin=-1, vmax=1, center=0, square=True, linewidths=.5)\n",
    "\n",
    "# Layout\n",
    "fig.subplots_adjust(top=0.95)\n",
    "fig.suptitle(\"Correlation Matrix\", fontsize=20)\n",
    "\n",
    "plt.show()"
   ]
  },
  {
   "cell_type": "markdown",
   "metadata": {},
   "source": [
    "# A tool to assist you through your exploratory data analysis\n",
    "\n",
    "Optionally, you may use `pandas-profiling` as a first approach to your data analysis. Remember, although this tool provides excelent insights about the data you're working with, it is not enough to perform a proper analysis."
   ]
  },
  {
   "cell_type": "code",
   "execution_count": null,
   "metadata": {},
   "outputs": [],
   "source": [
    "profile = ProfileReport(\n",
    "    df, \n",
    "    title='Tugas Customer Data',\n",
    "    correlations={\n",
    "        \"pearson\": {\"calculate\": True},\n",
    "        \"spearman\": {\"calculate\": False},\n",
    "        \"kendall\": {\"calculate\": False},\n",
    "        \"phi_k\": {\"calculate\": False},\n",
    "        \"cramers\": {\"calculate\": False},\n",
    "    },\n",
    ")"
   ]
  },
  {
   "cell_type": "code",
   "execution_count": null,
   "metadata": {
    "scrolled": false
   },
   "outputs": [],
   "source": [
    "profile.to_notebook_iframe()"
   ]
  },
  {
   "cell_type": "code",
   "execution_count": null,
   "metadata": {},
   "outputs": [],
   "source": []
  }
 ],
 "metadata": {
  "interpreter": {
   "hash": "ac7e543e3dc0a459e5fc74c7d4413fcaeb35c3e687aaed9aa2b436df8f882b43"
  },
  "kernelspec": {
   "display_name": "Python 3",
   "language": "python",
   "name": "python3"
  },
  "language_info": {
   "codemirror_mode": {
    "name": "ipython",
    "version": 3
   },
   "file_extension": ".py",
   "mimetype": "text/x-python",
   "name": "python",
   "nbconvert_exporter": "python",
   "pygments_lexer": "ipython3",
   "version": "3.8.8"
  }
 },
 "nbformat": 4,
 "nbformat_minor": 4
}
